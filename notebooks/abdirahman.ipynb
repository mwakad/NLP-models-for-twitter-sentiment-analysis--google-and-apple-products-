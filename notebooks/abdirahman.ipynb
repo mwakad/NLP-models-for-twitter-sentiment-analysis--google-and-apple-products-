{
 "cells": [
  {
   "cell_type": "markdown",
   "id": "ba3034c0-9298-473d-9766-d933fc426843",
   "metadata": {},
   "source": [
    "# Bussiness problem\n",
    "A social media analytics team wants to automatically detect customer sentiment directed at brands or products. Understanding this sentiment can help marketing and product teams measure public perception and respond effectively."
   ]
  },
  {
   "cell_type": "code",
   "execution_count": 187,
   "id": "9db5e578",
   "metadata": {},
   "outputs": [],
   "source": [
    "#loading necessary libraries\n",
    "import numpy as np\n",
    "import pandas as pd\n",
    "import re\n",
    "import string \n",
    "import nltk\n",
    "from nltk.corpus import stopwords\n",
    "from nltk.stem import WordNetLemmatizer"
   ]
  },
  {
   "cell_type": "code",
   "execution_count": 188,
   "id": "fc806f85",
   "metadata": {},
   "outputs": [
    {
     "data": {
      "text/html": [
       "<div>\n",
       "<style scoped>\n",
       "    .dataframe tbody tr th:only-of-type {\n",
       "        vertical-align: middle;\n",
       "    }\n",
       "\n",
       "    .dataframe tbody tr th {\n",
       "        vertical-align: top;\n",
       "    }\n",
       "\n",
       "    .dataframe thead th {\n",
       "        text-align: right;\n",
       "    }\n",
       "</style>\n",
       "<table border=\"1\" class=\"dataframe\">\n",
       "  <thead>\n",
       "    <tr style=\"text-align: right;\">\n",
       "      <th></th>\n",
       "      <th>tweet_text</th>\n",
       "      <th>emotion_in_tweet_is_directed_at</th>\n",
       "      <th>is_there_an_emotion_directed_at_a_brand_or_product</th>\n",
       "    </tr>\n",
       "  </thead>\n",
       "  <tbody>\n",
       "    <tr>\n",
       "      <th>0</th>\n",
       "      <td>.@wesley83 I have a 3G iPhone. After 3 hrs tweeting at #RISE_Austin, it was dead!  I need to upgrade. Plugin stations at #SXSW.</td>\n",
       "      <td>iPhone</td>\n",
       "      <td>Negative emotion</td>\n",
       "    </tr>\n",
       "    <tr>\n",
       "      <th>1</th>\n",
       "      <td>@jessedee Know about @fludapp ? Awesome iPad/iPhone app that you'll likely appreciate for its design. Also, they're giving free Ts at #SXSW</td>\n",
       "      <td>iPad or iPhone App</td>\n",
       "      <td>Positive emotion</td>\n",
       "    </tr>\n",
       "    <tr>\n",
       "      <th>2</th>\n",
       "      <td>@swonderlin Can not wait for #iPad 2 also. They should sale them down at #SXSW.</td>\n",
       "      <td>iPad</td>\n",
       "      <td>Positive emotion</td>\n",
       "    </tr>\n",
       "    <tr>\n",
       "      <th>3</th>\n",
       "      <td>@sxsw I hope this year's festival isn't as crashy as this year's iPhone app. #sxsw</td>\n",
       "      <td>iPad or iPhone App</td>\n",
       "      <td>Negative emotion</td>\n",
       "    </tr>\n",
       "    <tr>\n",
       "      <th>4</th>\n",
       "      <td>@sxtxstate great stuff on Fri #SXSW: Marissa Mayer (Google), Tim O'Reilly (tech books/conferences) &amp;amp; Matt Mullenweg (Wordpress)</td>\n",
       "      <td>Google</td>\n",
       "      <td>Positive emotion</td>\n",
       "    </tr>\n",
       "  </tbody>\n",
       "</table>\n",
       "</div>"
      ],
      "text/plain": [
       "                                                                                                                                    tweet_text  \\\n",
       "0              .@wesley83 I have a 3G iPhone. After 3 hrs tweeting at #RISE_Austin, it was dead!  I need to upgrade. Plugin stations at #SXSW.   \n",
       "1  @jessedee Know about @fludapp ? Awesome iPad/iPhone app that you'll likely appreciate for its design. Also, they're giving free Ts at #SXSW   \n",
       "2                                                              @swonderlin Can not wait for #iPad 2 also. They should sale them down at #SXSW.   \n",
       "3                                                           @sxsw I hope this year's festival isn't as crashy as this year's iPhone app. #sxsw   \n",
       "4          @sxtxstate great stuff on Fri #SXSW: Marissa Mayer (Google), Tim O'Reilly (tech books/conferences) &amp; Matt Mullenweg (Wordpress)   \n",
       "\n",
       "  emotion_in_tweet_is_directed_at  \\\n",
       "0                          iPhone   \n",
       "1              iPad or iPhone App   \n",
       "2                            iPad   \n",
       "3              iPad or iPhone App   \n",
       "4                          Google   \n",
       "\n",
       "  is_there_an_emotion_directed_at_a_brand_or_product  \n",
       "0                                   Negative emotion  \n",
       "1                                   Positive emotion  \n",
       "2                                   Positive emotion  \n",
       "3                                   Negative emotion  \n",
       "4                                   Positive emotion  "
      ]
     },
     "execution_count": 188,
     "metadata": {},
     "output_type": "execute_result"
    }
   ],
   "source": [
    "#Loading the dataset \n",
    "df = pd.read_csv(\"C:/Users/HP/Documents/NLP-models-for-twitter-sentiment-analysis--google-and-apple-products-/data/tweet_product_company.csv\" , encoding='ISO-8859-1')\n",
    "df.head(5)"
   ]
  },
  {
   "cell_type": "markdown",
   "id": "d7355e08",
   "metadata": {},
   "source": [
    "###  EDA AND Data Cleaning"
   ]
  },
  {
   "cell_type": "code",
   "execution_count": 189,
   "id": "f2fca616",
   "metadata": {},
   "outputs": [
    {
     "data": {
      "text/plain": [
       "(9093, 3)"
      ]
     },
     "execution_count": 189,
     "metadata": {},
     "output_type": "execute_result"
    }
   ],
   "source": [
    "# Shape of dataset\n",
    "df.shape"
   ]
  },
  {
   "cell_type": "code",
   "execution_count": 190,
   "id": "ecfe1e45",
   "metadata": {},
   "outputs": [
    {
     "data": {
      "text/plain": [
       "['tweet_text',\n",
       " 'emotion_in_tweet_is_directed_at',\n",
       " 'is_there_an_emotion_directed_at_a_brand_or_product']"
      ]
     },
     "execution_count": 190,
     "metadata": {},
     "output_type": "execute_result"
    }
   ],
   "source": [
    "# Column names\n",
    "df.columns.tolist()"
   ]
  },
  {
   "cell_type": "code",
   "execution_count": 191,
   "id": "dca858fb",
   "metadata": {},
   "outputs": [
    {
     "data": {
      "text/plain": [
       "tweet_text                                               1\n",
       "emotion_in_tweet_is_directed_at                       5802\n",
       "is_there_an_emotion_directed_at_a_brand_or_product       0\n",
       "dtype: int64"
      ]
     },
     "execution_count": 191,
     "metadata": {},
     "output_type": "execute_result"
    }
   ],
   "source": [
    "# Check missing values\n",
    "df.isnull().sum()"
   ]
  },
  {
   "cell_type": "code",
   "execution_count": 192,
   "id": "e9ed6151",
   "metadata": {},
   "outputs": [],
   "source": [
    "df = df.rename(columns={\n",
    "    'tweet_text': 'text',\n",
    "    'is_there_an_emotion_directed_at_a_brand_or_product': 'sentiment',\n",
    "    'emotion_in_tweet_is_directed_at': 'brand'\n",
    "})\n",
    "df = df[['text', 'sentiment', 'brand']]"
   ]
  },
  {
   "cell_type": "code",
   "execution_count": 193,
   "id": "cf66d47c",
   "metadata": {},
   "outputs": [
    {
     "data": {
      "text/html": [
       "<div>\n",
       "<style scoped>\n",
       "    .dataframe tbody tr th:only-of-type {\n",
       "        vertical-align: middle;\n",
       "    }\n",
       "\n",
       "    .dataframe tbody tr th {\n",
       "        vertical-align: top;\n",
       "    }\n",
       "\n",
       "    .dataframe thead th {\n",
       "        text-align: right;\n",
       "    }\n",
       "</style>\n",
       "<table border=\"1\" class=\"dataframe\">\n",
       "  <thead>\n",
       "    <tr style=\"text-align: right;\">\n",
       "      <th></th>\n",
       "      <th>text</th>\n",
       "      <th>sentiment</th>\n",
       "      <th>brand</th>\n",
       "    </tr>\n",
       "  </thead>\n",
       "  <tbody>\n",
       "    <tr>\n",
       "      <th>0</th>\n",
       "      <td>.@wesley83 I have a 3G iPhone. After 3 hrs tweeting at #RISE_Austin, it was dead!  I need to upgrade. Plugin stations at #SXSW.</td>\n",
       "      <td>Negative emotion</td>\n",
       "      <td>iPhone</td>\n",
       "    </tr>\n",
       "    <tr>\n",
       "      <th>1</th>\n",
       "      <td>@jessedee Know about @fludapp ? Awesome iPad/iPhone app that you'll likely appreciate for its design. Also, they're giving free Ts at #SXSW</td>\n",
       "      <td>Positive emotion</td>\n",
       "      <td>iPad or iPhone App</td>\n",
       "    </tr>\n",
       "    <tr>\n",
       "      <th>2</th>\n",
       "      <td>@swonderlin Can not wait for #iPad 2 also. They should sale them down at #SXSW.</td>\n",
       "      <td>Positive emotion</td>\n",
       "      <td>iPad</td>\n",
       "    </tr>\n",
       "    <tr>\n",
       "      <th>3</th>\n",
       "      <td>@sxsw I hope this year's festival isn't as crashy as this year's iPhone app. #sxsw</td>\n",
       "      <td>Negative emotion</td>\n",
       "      <td>iPad or iPhone App</td>\n",
       "    </tr>\n",
       "    <tr>\n",
       "      <th>4</th>\n",
       "      <td>@sxtxstate great stuff on Fri #SXSW: Marissa Mayer (Google), Tim O'Reilly (tech books/conferences) &amp;amp; Matt Mullenweg (Wordpress)</td>\n",
       "      <td>Positive emotion</td>\n",
       "      <td>Google</td>\n",
       "    </tr>\n",
       "    <tr>\n",
       "      <th>5</th>\n",
       "      <td>@teachntech00 New iPad Apps For #SpeechTherapy And Communication Are Showcased At The #SXSW Conference http://ht.ly/49n4M #iear #edchat #asd</td>\n",
       "      <td>No emotion toward brand or product</td>\n",
       "      <td>NaN</td>\n",
       "    </tr>\n",
       "    <tr>\n",
       "      <th>6</th>\n",
       "      <td>NaN</td>\n",
       "      <td>No emotion toward brand or product</td>\n",
       "      <td>NaN</td>\n",
       "    </tr>\n",
       "    <tr>\n",
       "      <th>7</th>\n",
       "      <td>#SXSW is just starting, #CTIA is around the corner and #googleio is only a hop skip and a jump from there, good time to be an #android fan</td>\n",
       "      <td>Positive emotion</td>\n",
       "      <td>Android</td>\n",
       "    </tr>\n",
       "    <tr>\n",
       "      <th>8</th>\n",
       "      <td>Beautifully smart and simple idea RT @madebymany @thenextweb wrote about our #hollergram iPad app for #sxsw! http://bit.ly/ieaVOB</td>\n",
       "      <td>Positive emotion</td>\n",
       "      <td>iPad or iPhone App</td>\n",
       "    </tr>\n",
       "    <tr>\n",
       "      <th>9</th>\n",
       "      <td>Counting down the days to #sxsw plus strong Canadian dollar means stock up on Apple gear</td>\n",
       "      <td>Positive emotion</td>\n",
       "      <td>Apple</td>\n",
       "    </tr>\n",
       "  </tbody>\n",
       "</table>\n",
       "</div>"
      ],
      "text/plain": [
       "                                                                                                                                           text  \\\n",
       "0               .@wesley83 I have a 3G iPhone. After 3 hrs tweeting at #RISE_Austin, it was dead!  I need to upgrade. Plugin stations at #SXSW.   \n",
       "1   @jessedee Know about @fludapp ? Awesome iPad/iPhone app that you'll likely appreciate for its design. Also, they're giving free Ts at #SXSW   \n",
       "2                                                               @swonderlin Can not wait for #iPad 2 also. They should sale them down at #SXSW.   \n",
       "3                                                            @sxsw I hope this year's festival isn't as crashy as this year's iPhone app. #sxsw   \n",
       "4           @sxtxstate great stuff on Fri #SXSW: Marissa Mayer (Google), Tim O'Reilly (tech books/conferences) &amp; Matt Mullenweg (Wordpress)   \n",
       "5  @teachntech00 New iPad Apps For #SpeechTherapy And Communication Are Showcased At The #SXSW Conference http://ht.ly/49n4M #iear #edchat #asd   \n",
       "6                                                                                                                                           NaN   \n",
       "7    #SXSW is just starting, #CTIA is around the corner and #googleio is only a hop skip and a jump from there, good time to be an #android fan   \n",
       "8             Beautifully smart and simple idea RT @madebymany @thenextweb wrote about our #hollergram iPad app for #sxsw! http://bit.ly/ieaVOB   \n",
       "9                                                      Counting down the days to #sxsw plus strong Canadian dollar means stock up on Apple gear   \n",
       "\n",
       "                            sentiment               brand  \n",
       "0                    Negative emotion              iPhone  \n",
       "1                    Positive emotion  iPad or iPhone App  \n",
       "2                    Positive emotion                iPad  \n",
       "3                    Negative emotion  iPad or iPhone App  \n",
       "4                    Positive emotion              Google  \n",
       "5  No emotion toward brand or product                 NaN  \n",
       "6  No emotion toward brand or product                 NaN  \n",
       "7                    Positive emotion             Android  \n",
       "8                    Positive emotion  iPad or iPhone App  \n",
       "9                    Positive emotion               Apple  "
      ]
     },
     "execution_count": 193,
     "metadata": {},
     "output_type": "execute_result"
    }
   ],
   "source": [
    "df.head(10)"
   ]
  },
  {
   "cell_type": "code",
   "execution_count": 194,
   "id": "b605feb8",
   "metadata": {},
   "outputs": [],
   "source": [
    "# Text Cleaning Class\n",
    "class DataCleaner:\n",
    "    def __init__(self, df):\n",
    "        self.df = df.copy()\n",
    "\n",
    "    def remove_duplicates(self):\n",
    "        self.df.drop_duplicates(inplace=True)\n",
    "\n",
    "    def clean_text(self):\n",
    "        self.df['text'] = self.df['text'].str.replace(r'@\\w+', '', regex=True)  # Mentions\n",
    "        self.df['text'] = self.df['text'].str.replace(r'http\\S+|www.\\S+', '', regex=True)  # URLs\n",
    "        self.df['text'] = self.df['text'].str.replace(r'#', '', regex=True)  # Hashtag symbol only\n",
    "        self.df['text'] = self.df['text'].str.replace(r'[^\\w\\s]', '', regex=True)  # Punctuation\n",
    "        self.df['text'] = self.df['text'].str.lower()  # Lowercase\n",
    "        self.df['text'] = self.df['text'].str.strip()\n",
    "        self.df['text'] = self.df['text'].str.replace(r'\\s+', ' ', regex=True)  # Extra spaces\n",
    "        self.df = self.df[self.df['text'] != '']\n",
    "        self.df = self.df[self.df['text'].notna()]\n",
    "\n",
    "    def get_cleaned_data(self):\n",
    "        return self.df\n"
   ]
  },
  {
   "cell_type": "code",
   "execution_count": 195,
   "id": "33a3a6d7",
   "metadata": {},
   "outputs": [
    {
     "data": {
      "text/html": [
       "<div>\n",
       "<style scoped>\n",
       "    .dataframe tbody tr th:only-of-type {\n",
       "        vertical-align: middle;\n",
       "    }\n",
       "\n",
       "    .dataframe tbody tr th {\n",
       "        vertical-align: top;\n",
       "    }\n",
       "\n",
       "    .dataframe thead th {\n",
       "        text-align: right;\n",
       "    }\n",
       "</style>\n",
       "<table border=\"1\" class=\"dataframe\">\n",
       "  <thead>\n",
       "    <tr style=\"text-align: right;\">\n",
       "      <th></th>\n",
       "      <th>text</th>\n",
       "      <th>sentiment</th>\n",
       "      <th>brand</th>\n",
       "    </tr>\n",
       "  </thead>\n",
       "  <tbody>\n",
       "    <tr>\n",
       "      <th>0</th>\n",
       "      <td>i have a 3g iphone after 3 hrs tweeting at rise_austin it was dead i need to upgrade plugin stations at sxsw</td>\n",
       "      <td>Negative emotion</td>\n",
       "      <td>iPhone</td>\n",
       "    </tr>\n",
       "    <tr>\n",
       "      <th>1</th>\n",
       "      <td>know about awesome ipadiphone app that youll likely appreciate for its design also theyre giving free ts at sxsw</td>\n",
       "      <td>Positive emotion</td>\n",
       "      <td>iPad or iPhone App</td>\n",
       "    </tr>\n",
       "    <tr>\n",
       "      <th>2</th>\n",
       "      <td>can not wait for ipad 2 also they should sale them down at sxsw</td>\n",
       "      <td>Positive emotion</td>\n",
       "      <td>iPad</td>\n",
       "    </tr>\n",
       "    <tr>\n",
       "      <th>3</th>\n",
       "      <td>i hope this years festival isnt as crashy as this years iphone app sxsw</td>\n",
       "      <td>Negative emotion</td>\n",
       "      <td>iPad or iPhone App</td>\n",
       "    </tr>\n",
       "    <tr>\n",
       "      <th>4</th>\n",
       "      <td>great stuff on fri sxsw marissa mayer google tim oreilly tech booksconferences amp matt mullenweg wordpress</td>\n",
       "      <td>Positive emotion</td>\n",
       "      <td>Google</td>\n",
       "    </tr>\n",
       "  </tbody>\n",
       "</table>\n",
       "</div>"
      ],
      "text/plain": [
       "                                                                                                               text  \\\n",
       "0      i have a 3g iphone after 3 hrs tweeting at rise_austin it was dead i need to upgrade plugin stations at sxsw   \n",
       "1  know about awesome ipadiphone app that youll likely appreciate for its design also theyre giving free ts at sxsw   \n",
       "2                                                   can not wait for ipad 2 also they should sale them down at sxsw   \n",
       "3                                           i hope this years festival isnt as crashy as this years iphone app sxsw   \n",
       "4       great stuff on fri sxsw marissa mayer google tim oreilly tech booksconferences amp matt mullenweg wordpress   \n",
       "\n",
       "          sentiment               brand  \n",
       "0  Negative emotion              iPhone  \n",
       "1  Positive emotion  iPad or iPhone App  \n",
       "2  Positive emotion                iPad  \n",
       "3  Negative emotion  iPad or iPhone App  \n",
       "4  Positive emotion              Google  "
      ]
     },
     "execution_count": 195,
     "metadata": {},
     "output_type": "execute_result"
    }
   ],
   "source": [
    "# Initialize and apply cleaner\n",
    "cleaner = DataCleaner(df)\n",
    "cleaner.remove_duplicates()\n",
    "cleaner.clean_text()\n",
    "cleaned_df = cleaner.get_cleaned_data()\n",
    "\n",
    "# Preview cleaned text\n",
    "cleaned_df.head()\n"
   ]
  },
  {
   "cell_type": "code",
   "execution_count": 196,
   "id": "5d978981",
   "metadata": {},
   "outputs": [
    {
     "data": {
      "text/html": [
       "<div>\n",
       "<style scoped>\n",
       "    .dataframe tbody tr th:only-of-type {\n",
       "        vertical-align: middle;\n",
       "    }\n",
       "\n",
       "    .dataframe tbody tr th {\n",
       "        vertical-align: top;\n",
       "    }\n",
       "\n",
       "    .dataframe thead th {\n",
       "        text-align: right;\n",
       "    }\n",
       "</style>\n",
       "<table border=\"1\" class=\"dataframe\">\n",
       "  <thead>\n",
       "    <tr style=\"text-align: right;\">\n",
       "      <th></th>\n",
       "      <th>text</th>\n",
       "      <th>sentiment</th>\n",
       "      <th>brand</th>\n",
       "    </tr>\n",
       "  </thead>\n",
       "  <tbody>\n",
       "    <tr>\n",
       "      <th>0</th>\n",
       "      <td>i have a 3g iphone after 3 hrs tweeting at rise_austin it was dead i need to upgrade plugin stations at sxsw</td>\n",
       "      <td>Negative emotion</td>\n",
       "      <td>iPhone</td>\n",
       "    </tr>\n",
       "    <tr>\n",
       "      <th>1</th>\n",
       "      <td>know about awesome ipadiphone app that youll likely appreciate for its design also theyre giving free ts at sxsw</td>\n",
       "      <td>Positive emotion</td>\n",
       "      <td>iPad or iPhone App</td>\n",
       "    </tr>\n",
       "    <tr>\n",
       "      <th>2</th>\n",
       "      <td>can not wait for ipad 2 also they should sale them down at sxsw</td>\n",
       "      <td>Positive emotion</td>\n",
       "      <td>iPad</td>\n",
       "    </tr>\n",
       "    <tr>\n",
       "      <th>3</th>\n",
       "      <td>i hope this years festival isnt as crashy as this years iphone app sxsw</td>\n",
       "      <td>Negative emotion</td>\n",
       "      <td>iPad or iPhone App</td>\n",
       "    </tr>\n",
       "    <tr>\n",
       "      <th>4</th>\n",
       "      <td>great stuff on fri sxsw marissa mayer google tim oreilly tech booksconferences amp matt mullenweg wordpress</td>\n",
       "      <td>Positive emotion</td>\n",
       "      <td>Google</td>\n",
       "    </tr>\n",
       "  </tbody>\n",
       "</table>\n",
       "</div>"
      ],
      "text/plain": [
       "                                                                                                               text  \\\n",
       "0      i have a 3g iphone after 3 hrs tweeting at rise_austin it was dead i need to upgrade plugin stations at sxsw   \n",
       "1  know about awesome ipadiphone app that youll likely appreciate for its design also theyre giving free ts at sxsw   \n",
       "2                                                   can not wait for ipad 2 also they should sale them down at sxsw   \n",
       "3                                           i hope this years festival isnt as crashy as this years iphone app sxsw   \n",
       "4       great stuff on fri sxsw marissa mayer google tim oreilly tech booksconferences amp matt mullenweg wordpress   \n",
       "\n",
       "          sentiment               brand  \n",
       "0  Negative emotion              iPhone  \n",
       "1  Positive emotion  iPad or iPhone App  \n",
       "2  Positive emotion                iPad  \n",
       "3  Negative emotion  iPad or iPhone App  \n",
       "4  Positive emotion              Google  "
      ]
     },
     "execution_count": 196,
     "metadata": {},
     "output_type": "execute_result"
    }
   ],
   "source": [
    "# Expand column width so you can see full text\n",
    "pd.set_option('display.max_colwidth', None)\n",
    "\n",
    "# Then show the first 5 rows\n",
    "cleaned_df.head()\n",
    "\n"
   ]
  },
  {
   "cell_type": "code",
   "execution_count": 199,
   "id": "25d93951",
   "metadata": {},
   "outputs": [],
   "source": [
    "class DataCleaner:\n",
    "    def __init__(self, df):\n",
    "        self.df = df.copy()\n",
    "\n",
    "    def remove_duplicates(self):\n",
    "        self.df.drop_duplicates(inplace=True)\n",
    "\n",
    "    def clean_text(self):\n",
    "        def process(text):\n",
    "            text = re.sub(r'@\\w+', '', text)\n",
    "            text = re.sub(r'http\\S+|www\\S+|https\\S+', '', text)\n",
    "            text = re.sub(r'#\\w+', '', text)\n",
    "            text = re.sub(r'[^\\w\\s]', '', text)\n",
    "            text = text.lower().strip()\n",
    "            text = re.sub(r'\\s+', ' ', text)\n",
    "            return text\n",
    "\n",
    "        self.df['cleaned_text'] = self.df['text'].apply(lambda x: process(x) if pd.notnull(x) else '')\n",
    "\n",
    "    def get_cleaned_data(self):\n",
    "        return self.df\n"
   ]
  },
  {
   "cell_type": "code",
   "execution_count": 200,
   "id": "fcf13c11",
   "metadata": {},
   "outputs": [],
   "source": [
    "cleaner = DataCleaner(df)\n",
    "cleaner.remove_duplicates()\n",
    "cleaner.clean_text()\n",
    "cleaned_df = cleaner.get_cleaned_data()\n"
   ]
  },
  {
   "cell_type": "code",
   "execution_count": 201,
   "id": "f28d4416",
   "metadata": {},
   "outputs": [
    {
     "name": "stdout",
     "output_type": "stream",
     "text": [
      "1    2970\n",
      "0     569\n",
      "Name: label, dtype: int64\n"
     ]
    },
    {
     "name": "stderr",
     "output_type": "stream",
     "text": [
      "<ipython-input-201-009cbb41cbf3>:6: SettingWithCopyWarning: \n",
      "A value is trying to be set on a copy of a slice from a DataFrame.\n",
      "Try using .loc[row_indexer,col_indexer] = value instead\n",
      "\n",
      "See the caveats in the documentation: https://pandas.pydata.org/pandas-docs/stable/user_guide/indexing.html#returning-a-view-versus-a-copy\n",
      "  cleaned_df['label'] = cleaned_df['sentiment'].map(label_map)\n"
     ]
    },
    {
     "data": {
      "text/html": [
       "<div>\n",
       "<style scoped>\n",
       "    .dataframe tbody tr th:only-of-type {\n",
       "        vertical-align: middle;\n",
       "    }\n",
       "\n",
       "    .dataframe tbody tr th {\n",
       "        vertical-align: top;\n",
       "    }\n",
       "\n",
       "    .dataframe thead th {\n",
       "        text-align: right;\n",
       "    }\n",
       "</style>\n",
       "<table border=\"1\" class=\"dataframe\">\n",
       "  <thead>\n",
       "    <tr style=\"text-align: right;\">\n",
       "      <th></th>\n",
       "      <th>text</th>\n",
       "      <th>sentiment</th>\n",
       "      <th>brand</th>\n",
       "      <th>cleaned_text</th>\n",
       "      <th>label</th>\n",
       "    </tr>\n",
       "  </thead>\n",
       "  <tbody>\n",
       "    <tr>\n",
       "      <th>0</th>\n",
       "      <td>.@wesley83 I have a 3G iPhone. After 3 hrs tweeting at #RISE_Austin, it was dead!  I need to upgrade. Plugin stations at #SXSW.</td>\n",
       "      <td>Negative emotion</td>\n",
       "      <td>iPhone</td>\n",
       "      <td>i have a 3g iphone after 3 hrs tweeting at it was dead i need to upgrade plugin stations at</td>\n",
       "      <td>0</td>\n",
       "    </tr>\n",
       "    <tr>\n",
       "      <th>1</th>\n",
       "      <td>@jessedee Know about @fludapp ? Awesome iPad/iPhone app that you'll likely appreciate for its design. Also, they're giving free Ts at #SXSW</td>\n",
       "      <td>Positive emotion</td>\n",
       "      <td>iPad or iPhone App</td>\n",
       "      <td>know about awesome ipadiphone app that youll likely appreciate for its design also theyre giving free ts at</td>\n",
       "      <td>1</td>\n",
       "    </tr>\n",
       "    <tr>\n",
       "      <th>2</th>\n",
       "      <td>@swonderlin Can not wait for #iPad 2 also. They should sale them down at #SXSW.</td>\n",
       "      <td>Positive emotion</td>\n",
       "      <td>iPad</td>\n",
       "      <td>can not wait for 2 also they should sale them down at</td>\n",
       "      <td>1</td>\n",
       "    </tr>\n",
       "    <tr>\n",
       "      <th>3</th>\n",
       "      <td>@sxsw I hope this year's festival isn't as crashy as this year's iPhone app. #sxsw</td>\n",
       "      <td>Negative emotion</td>\n",
       "      <td>iPad or iPhone App</td>\n",
       "      <td>i hope this years festival isnt as crashy as this years iphone app</td>\n",
       "      <td>0</td>\n",
       "    </tr>\n",
       "    <tr>\n",
       "      <th>4</th>\n",
       "      <td>@sxtxstate great stuff on Fri #SXSW: Marissa Mayer (Google), Tim O'Reilly (tech books/conferences) &amp;amp; Matt Mullenweg (Wordpress)</td>\n",
       "      <td>Positive emotion</td>\n",
       "      <td>Google</td>\n",
       "      <td>great stuff on fri marissa mayer google tim oreilly tech booksconferences amp matt mullenweg wordpress</td>\n",
       "      <td>1</td>\n",
       "    </tr>\n",
       "  </tbody>\n",
       "</table>\n",
       "</div>"
      ],
      "text/plain": [
       "                                                                                                                                          text  \\\n",
       "0              .@wesley83 I have a 3G iPhone. After 3 hrs tweeting at #RISE_Austin, it was dead!  I need to upgrade. Plugin stations at #SXSW.   \n",
       "1  @jessedee Know about @fludapp ? Awesome iPad/iPhone app that you'll likely appreciate for its design. Also, they're giving free Ts at #SXSW   \n",
       "2                                                              @swonderlin Can not wait for #iPad 2 also. They should sale them down at #SXSW.   \n",
       "3                                                           @sxsw I hope this year's festival isn't as crashy as this year's iPhone app. #sxsw   \n",
       "4          @sxtxstate great stuff on Fri #SXSW: Marissa Mayer (Google), Tim O'Reilly (tech books/conferences) &amp; Matt Mullenweg (Wordpress)   \n",
       "\n",
       "          sentiment               brand  \\\n",
       "0  Negative emotion              iPhone   \n",
       "1  Positive emotion  iPad or iPhone App   \n",
       "2  Positive emotion                iPad   \n",
       "3  Negative emotion  iPad or iPhone App   \n",
       "4  Positive emotion              Google   \n",
       "\n",
       "                                                                                                  cleaned_text  \\\n",
       "0                  i have a 3g iphone after 3 hrs tweeting at it was dead i need to upgrade plugin stations at   \n",
       "1  know about awesome ipadiphone app that youll likely appreciate for its design also theyre giving free ts at   \n",
       "2                                                        can not wait for 2 also they should sale them down at   \n",
       "3                                           i hope this years festival isnt as crashy as this years iphone app   \n",
       "4       great stuff on fri marissa mayer google tim oreilly tech booksconferences amp matt mullenweg wordpress   \n",
       "\n",
       "   label  \n",
       "0      0  \n",
       "1      1  \n",
       "2      1  \n",
       "3      0  \n",
       "4      1  "
      ]
     },
     "execution_count": 201,
     "metadata": {},
     "output_type": "execute_result"
    }
   ],
   "source": [
    "# Keep only positive and negative emotions\n",
    "cleaned_df = cleaned_df[cleaned_df['sentiment'].isin(['Positive emotion', 'Negative emotion'])]\n",
    "\n",
    "# Encode labels\n",
    "label_map = {'Positive emotion': 1, 'Negative emotion': 0}\n",
    "cleaned_df['label'] = cleaned_df['sentiment'].map(label_map)\n",
    "\n",
    "# Check the class distribution\n",
    "print(cleaned_df['label'].value_counts())\n",
    "cleaned_df.head()\n"
   ]
  },
  {
   "cell_type": "code",
   "execution_count": 202,
   "id": "4da62fe0",
   "metadata": {},
   "outputs": [
    {
     "name": "stdout",
     "output_type": "stream",
     "text": [
      "Training label distribution:\n",
      " 1    2376\n",
      "0     455\n",
      "Name: label, dtype: int64\n",
      "Testing label distribution:\n",
      " 1    594\n",
      "0    114\n",
      "Name: label, dtype: int64\n"
     ]
    }
   ],
   "source": [
    "from sklearn.model_selection import train_test_split\n",
    "\n",
    "# Define features and target\n",
    "X = cleaned_df['cleaned_text']\n",
    "y = cleaned_df['label']\n",
    "\n",
    "# Split into training and test sets\n",
    "X_train, X_test, y_train, y_test = train_test_split(\n",
    "    X, y, test_size=0.2, stratify=y, random_state=42\n",
    ")\n",
    "\n",
    "# Show class distribution\n",
    "print(\"Training label distribution:\\n\", y_train.value_counts())\n",
    "print(\"Testing label distribution:\\n\", y_test.value_counts())\n",
    "\n"
   ]
  },
  {
   "cell_type": "code",
   "execution_count": 203,
   "id": "53eb1bdb",
   "metadata": {},
   "outputs": [
    {
     "name": "stdout",
     "output_type": "stream",
     "text": [
      "X_train TF-IDF shape: (2831, 5000)\n",
      "X_test TF-IDF shape: (708, 5000)\n"
     ]
    }
   ],
   "source": [
    "from sklearn.feature_extraction.text import TfidfVectorizer\n",
    "\n",
    "# Initialize TF-IDF Vectorizer\n",
    "tfidf = TfidfVectorizer(max_features=5000, ngram_range=(1, 2))\n",
    "\n",
    "# Fit and transform on training data, transform on test data\n",
    "X_train_tfidf = tfidf.fit_transform(X_train)\n",
    "X_test_tfidf = tfidf.transform(X_test)\n",
    "\n",
    "# Display shapes\n",
    "print(\"X_train TF-IDF shape:\", X_train_tfidf.shape)\n",
    "print(\"X_test TF-IDF shape:\", X_test_tfidf.shape)\n"
   ]
  },
  {
   "cell_type": "markdown",
   "id": "b774f12f",
   "metadata": {},
   "source": [
    "### Logistic Regression Model"
   ]
  },
  {
   "cell_type": "code",
   "execution_count": 207,
   "id": "736bac2b",
   "metadata": {},
   "outputs": [
    {
     "name": "stdout",
     "output_type": "stream",
     "text": [
      " Logistic Regression Classification Report:\n",
      "\n",
      "              precision    recall  f1-score   support\n",
      "\n",
      "           0       0.88      0.06      0.11       114\n",
      "           1       0.85      1.00      0.92       594\n",
      "\n",
      "    accuracy                           0.85       708\n",
      "   macro avg       0.86      0.53      0.52       708\n",
      "weighted avg       0.85      0.85      0.79       708\n",
      "\n"
     ]
    }
   ],
   "source": [
    "from sklearn.linear_model import LogisticRegression\n",
    "from sklearn.metrics import classification_report, confusion_matrix\n",
    "# Initialize logistic regression model\n",
    "lr_model = LogisticRegression(max_iter=1000, random_state=42)\n",
    "\n",
    "# Fit the model on the training TF-IDF data\n",
    "lr_model.fit(X_train_tfidf, y_train)\n",
    "# Predict on test set\n",
    "y_pred_lr = lr_model.predict(X_test_tfidf)\n",
    "# Print classification report\n",
    "print(\" Logistic Regression Classification Report:\\n\")\n",
    "print(classification_report(y_test, y_pred_lr))"
   ]
  },
  {
   "cell_type": "code",
   "execution_count": 205,
   "id": "68c902ca",
   "metadata": {},
   "outputs": [
    {
     "name": "stderr",
     "output_type": "stream",
     "text": [
      "c:\\Users\\HP\\anaconda3\\envs\\learn-env\\lib\\site-packages\\matplotlib\\backends\\backend_agg.py:238: RuntimeWarning: Glyph 128257 missing from current font.\n",
      "  font.set_text(s, 0.0, flags=flags)\n",
      "c:\\Users\\HP\\anaconda3\\envs\\learn-env\\lib\\site-packages\\matplotlib\\backends\\backend_agg.py:201: RuntimeWarning: Glyph 128257 missing from current font.\n",
      "  font.set_text(s, 0, flags=flags)\n"
     ]
    },
    {
     "data": {
      "image/png": "[encoded data removed]",
      "text/plain": [
       "<Figure size 432x288 with 2 Axes>"
      ]
     },
     "metadata": {
      "needs_background": "light"
     },
     "output_type": "display_data"
    }
   ],
   "source": [
    "# Compute confusion matrix\n",
    "cm = confusion_matrix(y_test, y_pred_lr)\n",
    "\n",
    "# Plot it with seaborn\n",
    "plt.figure(figsize=(6,4))\n",
    "sns.heatmap(cm, annot=True, fmt='d', cmap='Blues', xticklabels=lr_model.classes_, yticklabels=lr_model.classes_)\n",
    "plt.xlabel(\"Predicted\")\n",
    "plt.ylabel(\"Actual\")\n",
    "plt.title(\"🔁 Confusion Matrix - Logistic Regression\")\n",
    "plt.show()"
   ]
  },
  {
   "cell_type": "markdown",
   "id": "799d90b8",
   "metadata": {},
   "source": [
    "###   Logistic Regression with class_weight='balanced"
   ]
  },
  {
   "cell_type": "code",
   "execution_count": 223,
   "id": "a7a8ad30",
   "metadata": {},
   "outputs": [
    {
     "name": "stdout",
     "output_type": "stream",
     "text": [
      "Logistic Regression (with class_weight='balanced') Classification Report:\n",
      "\n",
      "              precision    recall  f1-score   support\n",
      "\n",
      "           0       0.50      0.64      0.56       114\n",
      "           1       0.93      0.88      0.90       594\n",
      "\n",
      "    accuracy                           0.84       708\n",
      "   macro avg       0.71      0.76      0.73       708\n",
      "weighted avg       0.86      0.84      0.85       708\n",
      "\n"
     ]
    },
    {
     "data": {
      "image/png": "[encoded data removed]",
      "text/plain": [
       "<Figure size 432x288 with 2 Axes>"
      ]
     },
     "metadata": {
      "needs_background": "light"
     },
     "output_type": "display_data"
    }
   ],
   "source": [
    "# Initialize the model with class_weight\n",
    "balanced_lr = LogisticRegression(class_weight='balanced', max_iter=1000, solver='liblinear')\n",
    "balanced_lr.fit(X_train_tfidf, y_train)\n",
    "\n",
    "# Predict on test data\n",
    "y_pred_balanced = balanced_lr.predict(X_test_tfidf)\n",
    "\n",
    "# Classification Report\n",
    "print(\"Logistic Regression (with class_weight='balanced') Classification Report:\\n\")\n",
    "print(classification_report(y_test, y_pred_balanced))\n",
    "\n",
    "# Confusion Matrix (fallback for older sklearn versions)\n",
    "cm = confusion_matrix(y_test, y_pred_balanced)\n",
    "disp = ConfusionMatrixDisplay(confusion_matrix=cm)\n",
    "disp.plot(cmap='Blues')\n",
    "plt.title(\"Confusion Matrix - Logistic Regression (Balanced Class Weights)\")\n",
    "plt.show()\n"
   ]
  },
  {
   "cell_type": "code",
   "execution_count": 215,
   "id": "674819c6",
   "metadata": {},
   "outputs": [
    {
     "name": "stdout",
     "output_type": "stream",
     "text": [
      "Best Parameters: {'C': 10, 'penalty': 'l2', 'solver': 'liblinear'}\n"
     ]
    }
   ],
   "source": [
    "# Show best parameters and best model\n",
    "print(\"Best Parameters:\", grid_search.best_params_)\n",
    "\n",
    "# Use best model\n",
    "best_lr = grid_search.best_estimator_\n"
   ]
  },
  {
   "cell_type": "code",
   "execution_count": 217,
   "id": "1013b043",
   "metadata": {},
   "outputs": [
    {
     "name": "stdout",
     "output_type": "stream",
     "text": [
      "Classification Report:\n",
      "              precision    recall  f1-score   support\n",
      "\n",
      "           0       0.56      0.58      0.57       114\n",
      "           1       0.92      0.91      0.92       594\n",
      "\n",
      "    accuracy                           0.86       708\n",
      "   macro avg       0.74      0.75      0.74       708\n",
      "weighted avg       0.86      0.86      0.86       708\n",
      "\n"
     ]
    },
    {
     "data": {
      "image/png": "[encoded data removed]",
      "text/plain": [
       "<Figure size 432x288 with 2 Axes>"
      ]
     },
     "metadata": {
      "needs_background": "light"
     },
     "output_type": "display_data"
    }
   ],
   "source": [
    "from sklearn.metrics import classification_report, confusion_matrix, ConfusionMatrixDisplay\n",
    "import matplotlib.pyplot as plt\n",
    "\n",
    "# Predict\n",
    "y_pred_best = best_lr.predict(X_test_tfidf)\n",
    "\n",
    "# Classification report\n",
    "print(\"Classification Report:\")\n",
    "print(classification_report(y_test, y_pred_best))\n",
    "\n",
    "# Confusion matrix (fallback for older versions)\n",
    "cm = confusion_matrix(y_test, y_pred_best)\n",
    "disp = ConfusionMatrixDisplay(confusion_matrix=cm)\n",
    "disp.plot(cmap='Blues')\n",
    "plt.title(\"Confusion Matrix - Tuned Logistic Regression\")\n",
    "plt.show()\n"
   ]
  },
  {
   "cell_type": "markdown",
   "id": "9be24bea",
   "metadata": {},
   "source": [
    "### Multinomial Naive Bayes "
   ]
  },
  {
   "cell_type": "code",
   "execution_count": 218,
   "id": "be9a3ba4",
   "metadata": {},
   "outputs": [
    {
     "name": "stdout",
     "output_type": "stream",
     "text": [
      "Multinomial Naive Bayes Classification Report:\n",
      "\n",
      "              precision    recall  f1-score   support\n",
      "\n",
      "           0       0.75      0.08      0.14       114\n",
      "           1       0.85      0.99      0.92       594\n",
      "\n",
      "    accuracy                           0.85       708\n",
      "   macro avg       0.80      0.54      0.53       708\n",
      "weighted avg       0.83      0.85      0.79       708\n",
      "\n"
     ]
    },
    {
     "data": {
      "text/plain": [
       "<sklearn.metrics._plot.confusion_matrix.ConfusionMatrixDisplay at 0x2ae126e1130>"
      ]
     },
     "execution_count": 218,
     "metadata": {},
     "output_type": "execute_result"
    },
    {
     "data": {
      "image/png": "[encoded data removed]",
      "text/plain": [
       "<Figure size 432x288 with 2 Axes>"
      ]
     },
     "metadata": {
      "needs_background": "light"
     },
     "output_type": "display_data"
    }
   ],
   "source": [
    "from sklearn.naive_bayes import MultinomialNB\n",
    "\n",
    "# Initialize and train the model\n",
    "nb_model = MultinomialNB()\n",
    "nb_model.fit(X_train_tfidf, y_train)\n",
    "\n",
    "# Predict on test set\n",
    "y_pred_nb = nb_model.predict(X_test_tfidf)\n",
    "\n",
    "# Classification report\n",
    "print(\"Multinomial Naive Bayes Classification Report:\\n\")\n",
    "print(classification_report(y_test, y_pred_nb))\n",
    "\n",
    "# Confusion matrix (use fallback if from_estimator fails)\n",
    "cm = confusion_matrix(y_test, y_pred_nb)\n",
    "disp = ConfusionMatrixDisplay(confusion_matrix=cm)\n",
    "disp.plot(cmap='Blues')\n"
   ]
  },
  {
   "cell_type": "markdown",
   "id": "c97b4e51",
   "metadata": {},
   "source": [
    "#### Multinomial Naive Bayes with SMOTE"
   ]
  },
  {
   "cell_type": "code",
   "execution_count": 219,
   "id": "7961e83d",
   "metadata": {},
   "outputs": [
    {
     "name": "stdout",
     "output_type": "stream",
     "text": [
      "Before SMOTE: {1: 2376, 0: 455}\n",
      "After SMOTE: {1: 2376, 0: 2376}\n",
      "Multinomial Naive Bayes (with SMOTE) Classification Report:\n",
      "\n",
      "              precision    recall  f1-score   support\n",
      "\n",
      "           0       0.43      0.74      0.54       114\n",
      "           1       0.94      0.81      0.87       594\n",
      "\n",
      "    accuracy                           0.80       708\n",
      "   macro avg       0.68      0.77      0.71       708\n",
      "weighted avg       0.86      0.80      0.82       708\n",
      "\n"
     ]
    }
   ],
   "source": [
    "from imblearn.over_sampling import SMOTE\n",
    "\n",
    "# Apply SMOTE only on the training data\n",
    "smote = SMOTE(random_state=42)\n",
    "X_train_resampled, y_train_resampled = smote.fit_resample(X_train_tfidf, y_train)\n",
    "\n",
    "print(\"Before SMOTE:\", y_train.value_counts().to_dict())\n",
    "print(\"After SMOTE:\", pd.Series(y_train_resampled).value_counts().to_dict())\n",
    "from sklearn.naive_bayes import MultinomialNB\n",
    "from sklearn.metrics import classification_report, confusion_matrix\n",
    "\n",
    "# Initialize and train MultinomialNB\n",
    "nb_smote = MultinomialNB()\n",
    "nb_smote.fit(X_train_resampled, y_train_resampled)\n",
    "\n",
    "# Predict on the test set\n",
    "y_pred_nb_smote = nb_smote.predict(X_test_tfidf)\n",
    "\n",
    "# Evaluation\n",
    "print(\"Multinomial Naive Bayes (with SMOTE) Classification Report:\\n\")\n",
    "print(classification_report(y_test, y_pred_nb_smote))\n"
   ]
  },
  {
   "cell_type": "markdown",
   "id": "480432d5",
   "metadata": {},
   "source": [
    "### Random Forest"
   ]
  },
  {
   "cell_type": "code",
   "execution_count": 224,
   "id": "db0363ac",
   "metadata": {},
   "outputs": [
    {
     "name": "stdout",
     "output_type": "stream",
     "text": [
      "Random Forest Classification Report:\n",
      "\n",
      "              precision    recall  f1-score   support\n",
      "\n",
      "           0       0.84      0.24      0.37       114\n",
      "           1       0.87      0.99      0.93       594\n",
      "\n",
      "    accuracy                           0.87       708\n",
      "   macro avg       0.86      0.61      0.65       708\n",
      "weighted avg       0.87      0.87      0.84       708\n",
      "\n"
     ]
    },
    {
     "data": {
      "image/png": "[encoded data removed]",
      "text/plain": [
       "<Figure size 432x288 with 2 Axes>"
      ]
     },
     "metadata": {
      "needs_background": "light"
     },
     "output_type": "display_data"
    }
   ],
   "source": [
    "from sklearn.ensemble import RandomForestClassifier\n",
    "\n",
    "# Step 1: Initialize the model\n",
    "rf_model = RandomForestClassifier(class_weight='balanced', random_state=42)\n",
    "\n",
    "# Step 2: Train the model\n",
    "rf_model.fit(X_train_tfidf, y_train)\n",
    "\n",
    "# Step 3: Predict on test data\n",
    "y_pred_rf = rf_model.predict(X_test_tfidf)\n",
    "\n",
    "# Step 4: Evaluate\n",
    "print(\"Random Forest Classification Report:\\n\")\n",
    "print(classification_report(y_test, y_pred_rf))\n",
    "# Confusion matrix for older sklearn versions\n",
    "cm = confusion_matrix(y_test, y_pred_rf)\n",
    "disp = ConfusionMatrixDisplay(confusion_matrix=cm)\n",
    "disp.plot(cmap='Blues')\n",
    "plt.title(\"Confusion Matrix - Random Forest\")\n",
    "plt.show()"
   ]
  },
  {
   "cell_type": "markdown",
   "id": "d9a73853",
   "metadata": {},
   "source": [
    "### Random Forest  with SMOTE "
   ]
  },
  {
   "cell_type": "code",
   "execution_count": 222,
   "id": "33632007",
   "metadata": {},
   "outputs": [
    {
     "name": "stdout",
     "output_type": "stream",
     "text": [
      "After SMOTE: Counter({0: 2376, 1: 2376})\n",
      "Random Forest (with SMOTE) Classification Report:\n",
      "\n",
      "              precision    recall  f1-score   support\n",
      "\n",
      "           0       0.69      0.25      0.37       114\n",
      "           1       0.87      0.98      0.92       594\n",
      "\n",
      "    accuracy                           0.86       708\n",
      "   macro avg       0.78      0.62      0.65       708\n",
      "weighted avg       0.84      0.86      0.83       708\n",
      "\n"
     ]
    },
    {
     "data": {
      "image/png": "[encoded data removed]",
      "text/plain": [
       "<Figure size 432x288 with 2 Axes>"
      ]
     },
     "metadata": {
      "needs_background": "light"
     },
     "output_type": "display_data"
    }
   ],
   "source": [
    "from imblearn.over_sampling import SMOTE\n",
    "\n",
    "# Apply SMOTE\n",
    "smote = SMOTE(random_state=42)\n",
    "X_train_smote, y_train_smote = smote.fit_resample(X_train_tfidf, y_train)\n",
    "\n",
    "# Check class distribution after SMOTE\n",
    "from collections import Counter\n",
    "print(\"After SMOTE:\", Counter(y_train_smote))\n",
    "from sklearn.ensemble import RandomForestClassifier\n",
    "from sklearn.metrics import classification_report, ConfusionMatrixDisplay\n",
    "import matplotlib.pyplot as plt\n",
    "\n",
    "# Initialize and fit the model\n",
    "rf_model = RandomForestClassifier(random_state=42)\n",
    "rf_model.fit(X_train_smote, y_train_smote)\n",
    "\n",
    "# Predict\n",
    "y_pred_rf = rf_model.predict(X_test_tfidf)\n",
    "\n",
    "# Evaluate\n",
    "print(\"Random Forest (with SMOTE) Classification Report:\\n\")\n",
    "print(classification_report(y_test, y_pred_rf))\n",
    "\n",
    "cm = confusion_matrix(y_test, y_pred_rf)\n",
    "disp = ConfusionMatrixDisplay(confusion_matrix=cm)\n",
    "disp.plot()\n",
    "plt.title(\"Confusion Matrix - Random Forest with SMOTE\")\n",
    "plt.show()\n"
   ]
  },
  {
   "cell_type": "markdown",
   "id": "f3d15853",
   "metadata": {},
   "source": [
    "### Confusion Matrix for All Models"
   ]
  },
  {
   "cell_type": "code",
   "execution_count": 225,
   "id": "d3e8a0f4",
   "metadata": {},
   "outputs": [
    {
     "data": {
      "image/png": "[encoded data removed]",
      "text/plain": [
       "<Figure size 432x288 with 2 Axes>"
      ]
     },
     "metadata": {
      "needs_background": "light"
     },
     "output_type": "display_data"
    },
    {
     "data": {
      "image/png": "[encoded data removed]",
      "text/plain": [
       "<Figure size 432x288 with 2 Axes>"
      ]
     },
     "metadata": {
      "needs_background": "light"
     },
     "output_type": "display_data"
    },
    {
     "data": {
      "image/png": "[encoded data removed]",
      "text/plain": [
       "<Figure size 432x288 with 2 Axes>"
      ]
     },
     "metadata": {
      "needs_background": "light"
     },
     "output_type": "display_data"
    }
   ],
   "source": [
    "from sklearn.metrics import ConfusionMatrixDisplay, confusion_matrix\n",
    "import matplotlib.pyplot as plt\n",
    "\n",
    "models = {\n",
    "    \"Logistic Regression\": y_pred_lr,\n",
    "    \"Naive Bayes\": y_pred_nb,\n",
    "    \"Random Forest\": y_pred_rf\n",
    "}\n",
    "\n",
    "for name, pred in models.items():\n",
    "    cm = confusion_matrix(y_test, pred)\n",
    "    disp = ConfusionMatrixDisplay(confusion_matrix=cm)\n",
    "    disp.plot()\n",
    "    plt.title(f\"Confusion Matrix - {name}\")\n",
    "    plt.show()\n"
   ]
  },
  {
   "cell_type": "markdown",
   "id": "614bcdc2",
   "metadata": {},
   "source": [
    "### Bar Plot of F1-Scores Across Models"
   ]
  },
  {
   "cell_type": "code",
   "execution_count": 226,
   "id": "bb15fca0",
   "metadata": {},
   "outputs": [
    {
     "data": {
      "image/png": "[encoded data removed]",
      "text/plain": [
       "<Figure size 432x288 with 1 Axes>"
      ]
     },
     "metadata": {
      "needs_background": "light"
     },
     "output_type": "display_data"
    }
   ],
   "source": [
    "from sklearn.metrics import f1_score\n",
    "import seaborn as sns\n",
    "\n",
    "f1_scores = {\n",
    "    \"Logistic Regression\": f1_score(y_test, y_pred_lr),\n",
    "    \"Naive Bayes\": f1_score(y_test, y_pred_nb),\n",
    "    \"Random Forest\": f1_score(y_test, y_pred_rf)\n",
    "}\n",
    "\n",
    "# Convert to DataFrame for plotting\n",
    "f1_df = pd.DataFrame(list(f1_scores.items()), columns=[\"Model\", \"F1 Score\"])\n",
    "\n",
    "# Plot\n",
    "sns.barplot(x=\"Model\", y=\"F1 Score\", data=f1_df)\n",
    "plt.ylim(0, 1)\n",
    "plt.title(\"F1 Score Comparison Across Models\")\n",
    "plt.show()\n"
   ]
  },
  {
   "cell_type": "markdown",
   "id": "416a15fc",
   "metadata": {},
   "source": [
    "### Bar Plot of F1-Scores Across Models"
   ]
  },
  {
   "cell_type": "code",
   "execution_count": 227,
   "id": "f3a5fbda",
   "metadata": {},
   "outputs": [
    {
     "data": {
      "image/png": "[encoded data removed]",
      "text/plain": [
       "<Figure size 576x432 with 1 Axes>"
      ]
     },
     "metadata": {
      "needs_background": "light"
     },
     "output_type": "display_data"
    }
   ],
   "source": [
    "from sklearn.metrics import roc_curve, auc\n",
    "from sklearn.preprocessing import label_binarize\n",
    "\n",
    "# Get predicted probabilities\n",
    "y_probs_lr = lr_model.predict_proba(X_test_tfidf)[:, 1]\n",
    "y_probs_nb = nb_model.predict_proba(X_test_tfidf)[:, 1]\n",
    "y_probs_rf = rf_model.predict_proba(X_test_tfidf)[:, 1]\n",
    "\n",
    "# Plot\n",
    "plt.figure(figsize=(8,6))\n",
    "for name, y_prob in zip([\"Logistic\", \"Naive Bayes\", \"Random Forest\"],\n",
    "                        [y_probs_lr, y_probs_nb, y_probs_rf]):\n",
    "    fpr, tpr, _ = roc_curve(y_test, y_prob)\n",
    "    roc_auc = auc(fpr, tpr)\n",
    "    plt.plot(fpr, tpr, label=f\"{name} (AUC = {roc_auc:.2f})\")\n",
    "\n",
    "plt.plot([0, 1], [0, 1], 'k--')\n",
    "plt.xlabel(\"False Positive Rate\")\n",
    "plt.ylabel(\"True Positive Rate\")\n",
    "plt.title(\"ROC Curve Comparison\")\n",
    "plt.legend()\n",
    "plt.show()\n"
   ]
  },
  {
   "cell_type": "markdown",
   "id": "4b59ee77",
   "metadata": {},
   "source": [
    " Model Selection Summary for Sentiment Analysis\n",
    "After evaluating multiple classification models on the Twitter sentiment dataset, the Multinomial Naive Bayes with SMOTE showed the best overall performance across the key evaluation metrics on the test set.\n",
    "\n",
    "1. Multinomial Naive Bayes (with SMOTE)\n",
    "Accuracy: 0.80\n",
    "\n",
    "Precision (class 0): 0.43\n",
    "\n",
    "Recall (class 0): 0.74\n",
    "\n",
    "F1-score (class 0): 0.54\n",
    "\n",
    "Why it's strong:\n",
    "\n",
    "Balancing using SMOTE significantly improved recall for minority class (0).\n",
    "\n",
    "Suitable for text data due to strong probabilistic handling of word counts.\n",
    "\n",
    "Fast and scalable for large text datasets.\n",
    "\n",
    "Good trade-off between simplicity, speed, and accuracy.\n",
    "\n",
    "2. Logistic Regression (with class_weight='balanced')\n",
    "Accuracy: 0.84\n",
    "\n",
    "Precision (class 0): 0.50\n",
    "\n",
    "Recall (class 0): 0.64\n",
    "\n",
    "F1-score (class 0): 0.56\n",
    "\n",
    "Why it’s decent:\n",
    "\n",
    "Performed well with balancing, catching more minority class examples.\n",
    "\n",
    "Interpretable coefficients and robust on sparse data.\n",
    "\n",
    "However, it slightly underperformed compared to Naive Bayes on F1-score for class 0.\n",
    "\n",
    " 3. Random Forest (with SMOTE)\n",
    "Accuracy: 0.86\n",
    "\n",
    "Precision (class 0): 0.74\n",
    "\n",
    "Recall (class 0): 0.33\n",
    "\n",
    "F1-score (class 0): 0.46\n",
    "\n",
    "Why not the best in this case:\n",
    "\n",
    "Although high overall accuracy, the model struggled with recall for class 0.\n",
    "\n",
    "Heavily biased toward class 1 even after oversampling.\n",
    "\n",
    "Good for feature importance, but not optimal here due to imbalance sensitivity.\n",
    "\n",
    "Final Decision: Multinomial Naive Bayes with SMOTE\n",
    "This model achieved the best recall and F1-score for the minority class while maintaining strong accuracy overall. It’s especially suited for text classification tasks, making it the most balanced and effective choice for deployment in this sentiment analysis pipeline."
   ]
  },
  {
   "cell_type": "markdown",
   "id": "d2e4f555",
   "metadata": {},
   "source": [
    "### CONCLUSION\n",
    "This project explores sentiment analysis on tweets about Apple and Google using Natural Language Processing (NLP) techniques. The primary goal was to predict the sentiment of a tweet whether Positive or Negative using various machine learning models.\n",
    "\n",
    "The key steps included:\n",
    "\n",
    "Cleaning and preprocessing text data\n",
    "\n",
    "Vectorizing tweets using TF-IDF\n",
    "\n",
    "Addressing class imbalance using SMOTE\n",
    "\n",
    "Training and evaluating several models: Logistic Regression, Multinomial Naive Bayes, and Random Forest\n",
    "\n",
    "Among these, the Multinomial Naive Bayes model with SMOTE produced the most balanced and consistent performance in terms of accuracy, recall, and F1-score, particularly for both the majority and minority classes.\n",
    "\n",
    "To demonstrate usability, the best-performing model was deployed using Flask, enabling real-time sentiment prediction from tweet inputs via a simple web interface.\n",
    "\n",
    "### Recommendations\n",
    "Expand the Dataset: Include more diverse and recent tweets to capture evolving trends, slang, and user expressions.\n",
    "\n",
    "Incorporate Real-time Data: Integrate Twitter/X API to continuously fetch tweets and keep the model updated with live data.\n",
    "\n",
    "Monitor Model Drift: Continuously monitor the model's performance in production to detect drift and retrain when necessary.\n",
    "\n",
    "Enhance Interpretability: Add visualizations or explainability tools (like SHAP or LIME) to better understand feature importance and prediction logic.\n",
    "\n",
    "Add Neutral Class: Extend the binary classification to include Neutral sentiment for a more nuanced analysis.\n",
    "\n",
    "### Next Steps\n",
    "Deploy to the Cloud: Host the Flask app using services like Render, Heroku, or AWS EC2 for public access.\n",
    "\n",
    "Stream Tweets in Real Time: Use the Twitter/X Streaming API to build a pipeline for live sentiment updates.\n",
    "\n",
    "Create a Dashboard: Build a Tableau or Power BI dashboard to visualize sentiment trends, brand mentions, and tweet volume over time.\n",
    "\n",
    "Explore Advanced Models: Experiment with BERT or other pretrained transformer models for higher accuracy and contextual understanding.\n",
    "\n",
    "Automate Retraining: Set up a pipeline to periodically retrain the model with newly collected tweets to maintain performance."
   ]
  }
 ],
 "metadata": {
  "kernelspec": {
   "display_name": "learn-env",
   "language": "python",
   "name": "python3"
  },
  "language_info": {
   "codemirror_mode": {
    "name": "ipython",
    "version": 3
   },
   "file_extension": ".py",
   "mimetype": "text/x-python",
   "name": "python",
   "nbconvert_exporter": "python",
   "pygments_lexer": "ipython3",
   "version": "3.8.5"
  }
 },
 "nbformat": 4,
 "nbformat_minor": 5
}
