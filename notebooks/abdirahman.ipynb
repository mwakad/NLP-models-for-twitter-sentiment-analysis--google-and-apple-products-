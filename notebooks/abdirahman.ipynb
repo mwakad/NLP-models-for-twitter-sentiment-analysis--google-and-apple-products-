{
 "cells": [
  {
   "cell_type": "markdown",
   "id": "ba3034c0-9298-473d-9766-d933fc426843",
   "metadata": {},
   "source": [
    "# Bussiness problem\n",
    "A social media analytics team wants to automatically detect customer sentiment directed at brands or products. Understanding this sentiment can help marketing and product teams measure public perception and respond effectively."
   ]
  },
  {
   "cell_type": "code",
   "execution_count": 4,
   "id": "9db5e578",
   "metadata": {},
   "outputs": [
    {
     "name": "stderr",
     "output_type": "stream",
     "text": [
      "<frozen importlib._bootstrap>:219: RuntimeWarning: numpy.ufunc size changed, may indicate binary incompatibility. Expected 216 from C header, got 232 from PyObject\n"
     ]
    }
   ],
   "source": [
    "#loading necessary libraries\n",
    "import numpy as np\n",
    "import pandas as pd\n",
    "import re\n",
    "import string \n",
    "import nltk\n",
    "from nltk.corpus import stopwords\n",
    "from nltk.stem import WordNetLemmatizer"
   ]
  },
  {
   "cell_type": "code",
   "execution_count": 8,
   "id": "fc806f85",
   "metadata": {},
   "outputs": [
    {
     "data": {
      "text/html": [
       "<div>\n",
       "<style scoped>\n",
       "    .dataframe tbody tr th:only-of-type {\n",
       "        vertical-align: middle;\n",
       "    }\n",
       "\n",
       "    .dataframe tbody tr th {\n",
       "        vertical-align: top;\n",
       "    }\n",
       "\n",
       "    .dataframe thead th {\n",
       "        text-align: right;\n",
       "    }\n",
       "</style>\n",
       "<table border=\"1\" class=\"dataframe\">\n",
       "  <thead>\n",
       "    <tr style=\"text-align: right;\">\n",
       "      <th></th>\n",
       "      <th>tweet_text</th>\n",
       "      <th>emotion_in_tweet_is_directed_at</th>\n",
       "      <th>is_there_an_emotion_directed_at_a_brand_or_product</th>\n",
       "    </tr>\n",
       "  </thead>\n",
       "  <tbody>\n",
       "    <tr>\n",
       "      <th>0</th>\n",
       "      <td>.@wesley83 I have a 3G iPhone. After 3 hrs twe...</td>\n",
       "      <td>iPhone</td>\n",
       "      <td>Negative emotion</td>\n",
       "    </tr>\n",
       "    <tr>\n",
       "      <th>1</th>\n",
       "      <td>@jessedee Know about @fludapp ? Awesome iPad/i...</td>\n",
       "      <td>iPad or iPhone App</td>\n",
       "      <td>Positive emotion</td>\n",
       "    </tr>\n",
       "    <tr>\n",
       "      <th>2</th>\n",
       "      <td>@swonderlin Can not wait for #iPad 2 also. The...</td>\n",
       "      <td>iPad</td>\n",
       "      <td>Positive emotion</td>\n",
       "    </tr>\n",
       "    <tr>\n",
       "      <th>3</th>\n",
       "      <td>@sxsw I hope this year's festival isn't as cra...</td>\n",
       "      <td>iPad or iPhone App</td>\n",
       "      <td>Negative emotion</td>\n",
       "    </tr>\n",
       "    <tr>\n",
       "      <th>4</th>\n",
       "      <td>@sxtxstate great stuff on Fri #SXSW: Marissa M...</td>\n",
       "      <td>Google</td>\n",
       "      <td>Positive emotion</td>\n",
       "    </tr>\n",
       "  </tbody>\n",
       "</table>\n",
       "</div>"
      ],
      "text/plain": [
       "                                          tweet_text  \\\n",
       "0  .@wesley83 I have a 3G iPhone. After 3 hrs twe...   \n",
       "1  @jessedee Know about @fludapp ? Awesome iPad/i...   \n",
       "2  @swonderlin Can not wait for #iPad 2 also. The...   \n",
       "3  @sxsw I hope this year's festival isn't as cra...   \n",
       "4  @sxtxstate great stuff on Fri #SXSW: Marissa M...   \n",
       "\n",
       "  emotion_in_tweet_is_directed_at  \\\n",
       "0                          iPhone   \n",
       "1              iPad or iPhone App   \n",
       "2                            iPad   \n",
       "3              iPad or iPhone App   \n",
       "4                          Google   \n",
       "\n",
       "  is_there_an_emotion_directed_at_a_brand_or_product  \n",
       "0                                   Negative emotion  \n",
       "1                                   Positive emotion  \n",
       "2                                   Positive emotion  \n",
       "3                                   Negative emotion  \n",
       "4                                   Positive emotion  "
      ]
     },
     "execution_count": 8,
     "metadata": {},
     "output_type": "execute_result"
    }
   ],
   "source": [
    "#Loading the dataset \n",
    "df = pd.read_csv(\"C:/Users/HP/Documents/NLP-models-for-twitter-sentiment-analysis--google-and-apple-products-/data/tweet_product_company.csv\" , encoding='ISO-8859-1')\n",
    "df.head(5)"
   ]
  },
  {
   "cell_type": "markdown",
   "id": "d7355e08",
   "metadata": {},
   "source": [
    "###  EDA AND Data Cleaning"
   ]
  },
  {
   "cell_type": "code",
   "execution_count": null,
   "id": "f2fca616",
   "metadata": {},
   "outputs": [
    {
     "data": {
      "text/plain": [
       "(9093, 3)"
      ]
     },
     "execution_count": 10,
     "metadata": {},
     "output_type": "execute_result"
    }
   ],
   "source": [
    "# Shape of dataset\n",
    "df.shape"
   ]
  },
  {
   "cell_type": "code",
   "execution_count": null,
   "id": "ecfe1e45",
   "metadata": {},
   "outputs": [
    {
     "data": {
      "text/plain": [
       "['tweet_text',\n",
       " 'emotion_in_tweet_is_directed_at',\n",
       " 'is_there_an_emotion_directed_at_a_brand_or_product']"
      ]
     },
     "execution_count": 14,
     "metadata": {},
     "output_type": "execute_result"
    }
   ],
   "source": [
    "# Column names\n",
    "df.columns.tolist()"
   ]
  },
  {
   "cell_type": "code",
   "execution_count": 15,
   "id": "dca858fb",
   "metadata": {},
   "outputs": [
    {
     "data": {
      "text/plain": [
       "tweet_text                                               1\n",
       "emotion_in_tweet_is_directed_at                       5802\n",
       "is_there_an_emotion_directed_at_a_brand_or_product       0\n",
       "dtype: int64"
      ]
     },
     "execution_count": 15,
     "metadata": {},
     "output_type": "execute_result"
    }
   ],
   "source": [
    "# Check missing values\n",
    "df.isnull().sum()"
   ]
  },
  {
   "cell_type": "code",
   "execution_count": 16,
   "id": "eb88b39b",
   "metadata": {},
   "outputs": [],
   "source": [
    "# Droping  rows where tweet_text \n",
    "df = df.dropna(subset=['tweet_text'])\n"
   ]
  },
  {
   "cell_type": "code",
   "execution_count": 19,
   "id": "c8540dfc",
   "metadata": {},
   "outputs": [],
   "source": [
    "# Filtering only Positive and Negative emotions\n",
    "df= df[df['is_there_an_emotion_directed_at_a_brand_or_product'].isin(['Positive emotion','Negative emotion'])]"
   ]
  },
  {
   "cell_type": "code",
   "execution_count": 44,
   "id": "3cfd4cc5",
   "metadata": {},
   "outputs": [],
   "source": [
    "def create_binary_label(df, source_col, target_col='label', drop_neutral=False):\n",
    "    \"\"\"\n",
    "    Create a binary label column in a DataFrame.\n",
    "    \n",
    "    Parameters:\n",
    "    df (pd.DataFrame): The input DataFrame.\n",
    "    source_col (str): Column name containing emotion labels.\n",
    "    target_col (str): Name of the binary label column to create (default 'label').\n",
    "    drop_neutral (bool): Whether to drop rows with neutral/unknown emotions. Default is False.\n",
    "    \n",
    "    Returns:\n",
    "    pd.DataFrame: DataFrame with new binary label column.\n",
    "    \"\"\"\n",
    "    mapping = {\n",
    "        'Positive emotion': 1,\n",
    "        'Negative emotion': 0,\n",
    "    }\n",
    "\n",
    "    df[target_col] = df[source_col].map(mapping)\n",
    "\n",
    "    if drop_neutral:\n",
    "        df = df[df[target_col] != -1].copy()\n",
    "\n",
    "    return df\n"
   ]
  },
  {
   "cell_type": "code",
   "execution_count": 45,
   "id": "87a286d7",
   "metadata": {},
   "outputs": [
    {
     "name": "stderr",
     "output_type": "stream",
     "text": [
      "[nltk_data] Downloading package punkt to\n",
      "[nltk_data]     C:\\Users\\HP\\AppData\\Roaming\\nltk_data...\n",
      "[nltk_data]   Package punkt is already up-to-date!\n"
     ]
    },
    {
     "name": "stdout",
     "output_type": "stream",
     "text": [
      "🔝 Top 20 Most Common Words:\n",
      "#: 5937\n",
      "sxsw: 3686\n",
      ".: 2609\n",
      "@: 2535\n",
      "mention: 2507\n",
      "the: 1904\n",
      "to: 1415\n",
      "!: 1361\n",
      ",: 1321\n",
      "link: 1319\n",
      "{: 1315\n",
      "}: 1315\n",
      "ipad: 1191\n",
      "at: 1165\n",
      "rt: 1075\n",
      "apple: 1045\n",
      "for: 1028\n",
      ";: 993\n",
      "&: 945\n",
      "a: 938\n"
     ]
    }
   ],
   "source": [
    "from collections import Counter\n",
    "import nltk\n",
    "\n",
    "nltk.download('punkt')\n",
    "\n",
    "def get_most_common_words(df, text_col, top_n=20, lowercase=True, print_output=True):\n",
    "    \"\"\"\n",
    "    Tokenizes text data and returns the most common words.\n",
    "\n",
    "    Parameters:\n",
    "    df (pd.DataFrame): DataFrame containing the text data.\n",
    "    text_col (str): Name of the column containing text.\n",
    "    top_n (int): Number of top frequent words to return. Default is 20.\n",
    "    lowercase (bool): Whether to lowercase the text before tokenizing. Default is True.\n",
    "    print_output (bool): Whether to print the results. Default is True.\n",
    "\n",
    "    Returns:\n",
    "    List of tuples: (word, frequency)\n",
    "    \"\"\"\n",
    "    all_words = []\n",
    "\n",
    "    for text in df[text_col].dropna():\n",
    "        if lowercase:\n",
    "            text = text.lower()\n",
    "        tokens = nltk.word_tokenize(text)\n",
    "        all_words.extend(tokens)\n",
    "\n",
    "    word_freq = Counter(all_words)\n",
    "    most_common = word_freq.most_common(top_n)\n",
    "\n",
    "    if print_output:\n",
    "        print(f\"🔝 Top {top_n} Most Common Words:\")\n",
    "        for word, freq in most_common:\n",
    "            print(f\"{word}: {freq}\")\n",
    "\n",
    "    return most_common\n",
    "top_words = get_most_common_words(df, text_col='tweet_text', top_n=20)\n"
   ]
  },
  {
   "cell_type": "markdown",
   "id": "4cf0ca76",
   "metadata": {},
   "source": [
    "#### After examining the top 20 most frequent words in the dataset, I noticed that many of them were non-informative tokens such as punctuation marks, links, mentions, and common stopwords like \"the\", \"to\", and \"for\". These do not contribute meaningfully to the sentiment analysis task. To ensure that the model focuses on the most relevant and meaningful words, I decided to clean the text by removing this noise. This will help improve the accuracy and interpretability of the models used later.\n"
   ]
  },
  {
   "cell_type": "code",
   "execution_count": null,
   "id": "b5cc9f8f",
   "metadata": {},
   "outputs": [
    {
     "name": "stderr",
     "output_type": "stream",
     "text": [
      "[nltk_data] Downloading package punkt to\n",
      "[nltk_data]     C:\\Users\\HP\\AppData\\Roaming\\nltk_data...\n",
      "[nltk_data]   Package punkt is already up-to-date!\n",
      "[nltk_data] Downloading package stopwords to\n",
      "[nltk_data]     C:\\Users\\HP\\AppData\\Roaming\\nltk_data...\n",
      "[nltk_data]   Package stopwords is already up-to-date!\n",
      "[nltk_data] Downloading package wordnet to\n",
      "[nltk_data]     C:\\Users\\HP\\AppData\\Roaming\\nltk_data...\n",
      "[nltk_data]   Package wordnet is already up-to-date!\n"
     ]
    }
   ],
   "source": [
    "import re\n",
    "import string\n",
    "import nltk\n",
    "from nltk.corpus import stopwords\n",
    "from nltk.stem import WordNetLemmatizer\n",
    "\n",
    "# Download necessary NLTK data\n",
    "nltk.download('punkt')\n",
    "nltk.download('stopwords')\n",
    "nltk.download('wordnet')\n",
    "\n",
    "# Initialize lemmatizer and stopwords\n",
    "lemmatizer = WordNetLemmatizer()\n",
    "stop_words = set(stopwords.words('english'))\n",
    "\n",
    "def tokenize_text(text):\n",
    "    \"\"\"\n",
    "    Lowercase, remove URLs, mentions, hashtags, punctuation, and tokenize.\n",
    "    \"\"\"\n",
    "    text = text.lower()\n",
    "    text = re.sub(r'http\\S+|www.\\S+', '', text)           \n",
    "    text = re.sub(r'@\\w+|#\\w+', '', text)                 \n",
    "    text = re.sub(r'[{}0-9]'.format(string.punctuation), ' ', text)  \n",
    "    tokens = nltk.word_tokenize(text)\n",
    "    return tokens\n",
    "\n",
    "def remove_stopwords(tokens):\n",
    "    \"\"\"\n",
    "    Remove stopwords and non-alphabetic tokens.\n",
    "    \"\"\"\n",
    "    return [word for word in tokens if word.isalpha() and word not in stop_words]\n",
    "\n",
    "def lemmatize_tokens(tokens):\n",
    "    \"\"\"\n",
    "    Lemmatize the tokens.\n",
    "    \"\"\"\n",
    "    return [lemmatizer.lemmatize(word) for word in tokens]\n",
    "\n",
    "def clean_text(text):\n",
    "    \"\"\"\n",
    "    Full cleaning pipeline: tokenization → stopword removal → lemmatization → return string.\n",
    "    \"\"\"\n",
    "    tokens = tokenize_text(text)\n",
    "    tokens = remove_stopwords(tokens)\n",
    "    tokens = lemmatize_tokens(tokens)\n",
    "    return ' '.join(tokens)\n"
   ]
  },
  {
   "cell_type": "markdown",
   "id": "d9de798a",
   "metadata": {},
   "source": [
    "### Applying Text Cleaning\n",
    "\n",
    "The `clean_text` function was applied to the `tweet_text` column to remove unwanted noise such as punctuation, stopwords, links, mentions, and hashtags. The cleaned and lemmatized text was stored in a new column called `cleaned_text`. This cleaned version of the tweets will be used for feature extraction and modeling.\n"
   ]
  },
  {
   "cell_type": "code",
   "execution_count": 47,
   "id": "2639c794",
   "metadata": {},
   "outputs": [
    {
     "name": "stderr",
     "output_type": "stream",
     "text": [
      "[nltk_data] Downloading package wordnet to\n",
      "[nltk_data]     C:\\Users\\HP\\AppData\\Roaming\\nltk_data...\n",
      "[nltk_data]   Package wordnet is already up-to-date!\n",
      "[nltk_data] Downloading package omw-1.4 to\n",
      "[nltk_data]     C:\\Users\\HP\\AppData\\Roaming\\nltk_data...\n",
      "[nltk_data]   Package omw-1.4 is already up-to-date!\n"
     ]
    },
    {
     "data": {
      "text/html": [
       "<div>\n",
       "<style scoped>\n",
       "    .dataframe tbody tr th:only-of-type {\n",
       "        vertical-align: middle;\n",
       "    }\n",
       "\n",
       "    .dataframe tbody tr th {\n",
       "        vertical-align: top;\n",
       "    }\n",
       "\n",
       "    .dataframe thead th {\n",
       "        text-align: right;\n",
       "    }\n",
       "</style>\n",
       "<table border=\"1\" class=\"dataframe\">\n",
       "  <thead>\n",
       "    <tr style=\"text-align: right;\">\n",
       "      <th></th>\n",
       "      <th>tweet_text</th>\n",
       "      <th>cleaned_text</th>\n",
       "    </tr>\n",
       "  </thead>\n",
       "  <tbody>\n",
       "    <tr>\n",
       "      <th>0</th>\n",
       "      <td>.@wesley83 I have a 3G iPhone. After 3 hrs twe...</td>\n",
       "      <td>g iphone hr tweeting dead need upgrade plugin ...</td>\n",
       "    </tr>\n",
       "    <tr>\n",
       "      <th>1</th>\n",
       "      <td>@jessedee Know about @fludapp ? Awesome iPad/i...</td>\n",
       "      <td>know awesome ipad iphone app likely appreciate...</td>\n",
       "    </tr>\n",
       "    <tr>\n",
       "      <th>2</th>\n",
       "      <td>@swonderlin Can not wait for #iPad 2 also. The...</td>\n",
       "      <td>wait also sale</td>\n",
       "    </tr>\n",
       "    <tr>\n",
       "      <th>3</th>\n",
       "      <td>@sxsw I hope this year's festival isn't as cra...</td>\n",
       "      <td>hope year festival crashy year iphone app</td>\n",
       "    </tr>\n",
       "    <tr>\n",
       "      <th>4</th>\n",
       "      <td>@sxtxstate great stuff on Fri #SXSW: Marissa M...</td>\n",
       "      <td>great stuff fri marissa mayer google tim reill...</td>\n",
       "    </tr>\n",
       "  </tbody>\n",
       "</table>\n",
       "</div>"
      ],
      "text/plain": [
       "                                          tweet_text  \\\n",
       "0  .@wesley83 I have a 3G iPhone. After 3 hrs twe...   \n",
       "1  @jessedee Know about @fludapp ? Awesome iPad/i...   \n",
       "2  @swonderlin Can not wait for #iPad 2 also. The...   \n",
       "3  @sxsw I hope this year's festival isn't as cra...   \n",
       "4  @sxtxstate great stuff on Fri #SXSW: Marissa M...   \n",
       "\n",
       "                                        cleaned_text  \n",
       "0  g iphone hr tweeting dead need upgrade plugin ...  \n",
       "1  know awesome ipad iphone app likely appreciate...  \n",
       "2                                     wait also sale  \n",
       "3          hope year festival crashy year iphone app  \n",
       "4  great stuff fri marissa mayer google tim reill...  "
      ]
     },
     "execution_count": 47,
     "metadata": {},
     "output_type": "execute_result"
    }
   ],
   "source": [
    "import nltk\n",
    "nltk.download('wordnet')\n",
    "nltk.download('omw-1.4')\n",
    "# Appling to tweet_text column\n",
    "df['cleaned_text'] = df['tweet_text'].apply(clean_text)\n",
    "\n",
    "# Showing cleaned version\n",
    "df[['tweet_text', 'cleaned_text']].head(5)"
   ]
  },
  {
   "cell_type": "code",
   "execution_count": 48,
   "id": "8fac6939",
   "metadata": {},
   "outputs": [
    {
     "data": {
      "image/png": "[encoded data removed]",
      "text/plain": [
       "<Figure size 864x432 with 1 Axes>"
      ]
     },
     "metadata": {
      "needs_background": "light"
     },
     "output_type": "display_data"
    }
   ],
   "source": [
    "from collections import Counter\n",
    "import matplotlib.pyplot as plt\n",
    "\n",
    "# Combining  all cleaned words into a list\n",
    "all_cleaned_words = ' '.join(df['cleaned_text']).split()\n",
    "\n",
    "# Counting  most common cleaned words\n",
    "cleaned_freq = Counter(all_cleaned_words).most_common(20)\n",
    "\n",
    "# Converting  to DataFrame for plotting\n",
    "cleaned_df = pd.DataFrame(cleaned_freq, columns=['word', 'frequency'])\n",
    "\n",
    "# Plot\n",
    "plt.figure(figsize=(12,6))\n",
    "plt.bar(cleaned_df['word'], cleaned_df['frequency'], color='orange')\n",
    "plt.title('Top 20 Most Common Words (Cleaned Tweets)')\n",
    "plt.xlabel('Words')\n",
    "plt.ylabel('Frequency')\n",
    "plt.xticks(rotation=45)\n",
    "plt.grid(axis='y', linestyle='--', alpha=0.7)\n",
    "plt.show()\n"
   ]
  },
  {
   "cell_type": "markdown",
   "id": "388aab05",
   "metadata": {},
   "source": [
    "### Bar Plot – Sentiment by Brand (Apple vs Google)"
   ]
  },
  {
   "cell_type": "code",
   "execution_count": 49,
   "id": "5608c93f",
   "metadata": {},
   "outputs": [
    {
     "data": {
      "image/png": "[encoded data removed]",
      "text/plain": [
       "<Figure size 576x360 with 1 Axes>"
      ]
     },
     "metadata": {
      "needs_background": "light"
     },
     "output_type": "display_data"
    }
   ],
   "source": [
    "import seaborn as sns\n",
    "\n",
    "# Filtering  rows with Apple or Google\n",
    "brand_df = df[df['emotion_in_tweet_is_directed_at'].isin(['Apple', 'Google'])]\n",
    "\n",
    "# Ploting  sentiment counts by brand\n",
    "plt.figure(figsize=(8,5))\n",
    "sns.countplot(data=brand_df, x='emotion_in_tweet_is_directed_at', hue='label', palette='Set2')\n",
    "\n",
    "plt.title('Sentiment Distribution by Brand (Apple vs Google)')\n",
    "plt.xlabel('Brand')\n",
    "plt.ylabel('Tweet Count')\n",
    "plt.legend(title='Sentiment', labels=['Negative', 'Positive'])\n",
    "plt.grid(axis='y', linestyle='--', alpha=0.5)\n",
    "plt.show()\n"
   ]
  },
  {
   "cell_type": "markdown",
   "id": "15d12824",
   "metadata": {},
   "source": [
    "### Feature Extraction and  Modeling Setup"
   ]
  },
  {
   "cell_type": "code",
   "execution_count": null,
   "id": "38444a3f",
   "metadata": {},
   "outputs": [],
   "source": [
    "from sklearn.model_selection import train_test_split\n",
    "from sklearn.feature_extraction.text import TfidfVectorizer\n",
    "# Features and target\n",
    "X = df['cleaned_text']\n",
    "y = df['label']\n",
    "\n",
    "# Train/test split\n",
    "X_train, X_test, y_train, y_test = train_test_split(\n",
    "    X, y, test_size=0.2, random_state=42, stratify=y\n",
    ")"
   ]
  },
  {
   "cell_type": "markdown",
   "id": "51e19f42",
   "metadata": {},
   "source": [
    "### TF-IDF Vectorizer\n",
    "\n",
    "To train a machine learning model on text, we need to convert the tweets into numerical features. TF-IDF (Term Frequency-Inverse Document Frequency) transforms each tweet into a vector that highlights important words while reducing the weight of common ones. This representation helps the model focus on the most meaningful terms for sentiment classification.\n"
   ]
  },
  {
   "cell_type": "code",
   "execution_count": 51,
   "id": "53c0c1aa",
   "metadata": {},
   "outputs": [],
   "source": [
    "# Initialize TF-IDF Vectorizer\n",
    "tfidf = TfidfVectorizer(max_features=5000) \n",
    "\n",
    "# Fit and transform training data\n",
    "X_train_tfidf = tfidf.fit_transform(X_train)\n",
    "\n",
    "# Transform test data\n",
    "X_test_tfidf = tfidf.transform(X_test)\n"
   ]
  },
  {
   "cell_type": "markdown",
   "id": "3db9afa9",
   "metadata": {},
   "source": [
    "### Model 1: Logistic Regression with TF-IDF and GridSearchCV\n",
    "\n",
    "For our baseline model, we implemented a Logistic Regression classifier combined with TF-IDF vectorization using a Scikit-learn `Pipeline`. To optimize the model, we applied `GridSearchCV` with a 5-fold cross-validation strategy across various hyperparameters including `ngram_range`, `max_features`, regularization strength `C`, and penalty type."
   ]
  },
  {
   "cell_type": "code",
   "execution_count": 83,
   "id": "185d50f3",
   "metadata": {},
   "outputs": [
    {
     "name": "stdout",
     "output_type": "stream",
     "text": [
      "Fitting 5 folds for each of 36 candidates, totalling 180 fits\n"
     ]
    },
    {
     "name": "stderr",
     "output_type": "stream",
     "text": [
      "[Parallel(n_jobs=-1)]: Using backend LokyBackend with 4 concurrent workers.\n",
      "[Parallel(n_jobs=-1)]: Done  76 tasks      | elapsed:    3.9s\n",
      "[Parallel(n_jobs=-1)]: Done 173 out of 180 | elapsed:   16.9s remaining:    0.6s\n"
     ]
    },
    {
     "name": "stdout",
     "output_type": "stream",
     "text": [
      "Best parameters:\n",
      "{'clf__C': 10, 'clf__penalty': 'l2', 'tfidf__max_features': 7000, 'tfidf__ngram_range': (1, 2)}\n"
     ]
    },
    {
     "name": "stderr",
     "output_type": "stream",
     "text": [
      "[Parallel(n_jobs=-1)]: Done 180 out of 180 | elapsed:   18.8s finished\n"
     ]
    }
   ],
   "source": [
    "from sklearn.pipeline import Pipeline\n",
    "from sklearn.feature_extraction.text import TfidfVectorizer\n",
    "from sklearn.linear_model import LogisticRegression\n",
    "from sklearn.model_selection import GridSearchCV\n",
    "from sklearn.metrics import classification_report, confusion_matrix\n",
    "\n",
    "def build_and_train_pipeline(X_train, y_train):\n",
    "    \"\"\"\n",
    "    Build a pipeline with TF-IDF and Logistic Regression, and perform Grid Search.\n",
    "    Returns the best estimator.\n",
    "    \"\"\"\n",
    "\n",
    "    # Pipeline steps\n",
    "    pipeline = Pipeline([\n",
    "        ('tfidf', TfidfVectorizer()),  # You can fine-tune max_features, ngram_range\n",
    "        ('clf', LogisticRegression(solver='liblinear'))  # 'liblinear' works well for small datasets\n",
    "    ])\n",
    "\n",
    "    # Define hyperparameter grid\n",
    "    param_grid = {\n",
    "        'tfidf__max_features': [3000, 5000, 7000],\n",
    "        'tfidf__ngram_range': [(1,1), (1,2)],\n",
    "        'clf__C': [0.1, 1, 10],  # Regularization strength\n",
    "        'clf__penalty': ['l1', 'l2']\n",
    "    }\n",
    "\n",
    "    # Grid Search\n",
    "    grid = GridSearchCV(pipeline, param_grid, cv=5, n_jobs=-1, verbose=1, scoring='f1')\n",
    "    grid.fit(X_train, y_train)\n",
    "\n",
    "    print(\"Best parameters:\")\n",
    "    print(grid.best_params_)\n",
    "    return grid.best_estimator_\n",
    "best_lr_model = build_and_train_pipeline(X_train, y_train)"
   ]
  },
  {
   "cell_type": "code",
   "execution_count": 84,
   "id": "dff6e968",
   "metadata": {},
   "outputs": [
    {
     "name": "stdout",
     "output_type": "stream",
     "text": [
      "\n",
      " Classification Report:\n",
      "               precision    recall  f1-score   support\n",
      "\n",
      "           0       0.76      0.37      0.50       114\n",
      "           1       0.89      0.98      0.93       596\n",
      "\n",
      "    accuracy                           0.88       710\n",
      "   macro avg       0.83      0.67      0.71       710\n",
      "weighted avg       0.87      0.88      0.86       710\n",
      "\n",
      " Confusion Matrix:\n",
      " [[ 42  72]\n",
      " [ 13 583]]\n"
     ]
    }
   ],
   "source": [
    "def evaluate_model(model, X_test, y_test):\n",
    "    \"\"\"\n",
    "    Predict and print classification metrics.\n",
    "    \"\"\"\n",
    "    y_pred = model.predict(X_test)\n",
    "    print(\"\\n Classification Report:\\n\", classification_report(y_test, y_pred))\n",
    "    print(\" Confusion Matrix:\\n\", confusion_matrix(y_test, y_pred))\n",
    "evaluate_model(best_lr_model, X_test, y_test)\n"
   ]
  },
  {
   "cell_type": "markdown",
   "id": "c86fd72d",
   "metadata": {},
   "source": [
    "### Insights\n",
    "- The model performs well overall, especially on the dominant positive class.\n",
    "- However, it struggles to identify negative sentiments (low recall), likely due to class imbalance in the dataset.\n"
   ]
  },
  {
   "cell_type": "code",
   "execution_count": null,
   "id": "3e5e9048",
   "metadata": {},
   "outputs": [
    {
     "name": "stdout",
     "output_type": "stream",
     "text": [
      " MultinomialNB Classification Report:\n",
      "\n",
      "              precision    recall  f1-score   support\n",
      "\n",
      "           0       1.00      0.04      0.08       114\n",
      "           1       0.85      1.00      0.92       596\n",
      "\n",
      "    accuracy                           0.85       710\n",
      "   macro avg       0.92      0.52      0.50       710\n",
      "weighted avg       0.87      0.85      0.78       710\n",
      "\n"
     ]
    }
   ],
   "source": [
    "from sklearn.naive_bayes import MultinomialNB\n",
    "from sklearn.metrics import classification_report\n",
    "import matplotlib.pyplot as plt\n",
    "\n",
    "# Step 1: Initialize the model\n",
    "nb_model = MultinomialNB()\n",
    "\n",
    "# Step 2: Train on training data\n",
    "nb_model.fit(X_train_tfidf, y_train)\n",
    "\n",
    "# Step 3: Predict on test data\n",
    "y_pred_nb = nb_model.predict(X_test_tfidf)\n",
    "\n",
    "# Step 4: Evaluate the model\n",
    "print(\" MultinomialNB Classification Report:\\n\")\n",
    "print(classification_report(y_test, y_pred_nb))\n",
    "\n"
   ]
  },
  {
   "cell_type": "code",
   "execution_count": 86,
   "id": "50c56bf9",
   "metadata": {},
   "outputs": [
    {
     "data": {
      "image/png": "[encoded data removed]",
      "text/plain": [
       "<Figure size 432x288 with 2 Axes>"
      ]
     },
     "metadata": {
      "needs_background": "light"
     },
     "output_type": "display_data"
    }
   ],
   "source": [
    "from sklearn.metrics import confusion_matrix, ConfusionMatrixDisplay\n",
    "\n",
    "# Generate confusion matrix\n",
    "cm = confusion_matrix(y_test, y_pred_nb)\n",
    "disp = ConfusionMatrixDisplay(confusion_matrix=cm)\n",
    "\n",
    "# Plot it\n",
    "disp.plot(cmap='Blues')\n",
    "plt.title(\"Confusion Matrix - Multinomial Naive Bayes\")\n",
    "plt.show()\n"
   ]
  },
  {
   "cell_type": "markdown",
   "id": "927973c8",
   "metadata": {},
   "source": [
    "### Tuned MultinomialNB"
   ]
  },
  {
   "cell_type": "code",
   "execution_count": null,
   "id": "995afce8",
   "metadata": {},
   "outputs": [
    {
     "name": "stdout",
     "output_type": "stream",
     "text": [
      "Fitting 5 folds for each of 18 candidates, totalling 90 fits\n"
     ]
    },
    {
     "name": "stderr",
     "output_type": "stream",
     "text": [
      "[Parallel(n_jobs=-1)]: Using backend LokyBackend with 4 concurrent workers.\n",
      "[Parallel(n_jobs=-1)]: Done  76 tasks      | elapsed:    4.0s\n",
      "[Parallel(n_jobs=-1)]: Done  90 out of  90 | elapsed:    4.6s finished\n"
     ]
    },
    {
     "name": "stdout",
     "output_type": "stream",
     "text": [
      " Best Parameters:\n",
      " {'nb__alpha': 0.1, 'tfidf__max_features': 7000, 'tfidf__ngram_range': (1, 2)}\n",
      "\n",
      " Classification Report:\n",
      "               precision    recall  f1-score   support\n",
      "\n",
      "           0       0.81      0.38      0.51       114\n",
      "           1       0.89      0.98      0.94       596\n",
      "\n",
      "    accuracy                           0.89       710\n",
      "   macro avg       0.85      0.68      0.73       710\n",
      "weighted avg       0.88      0.89      0.87       710\n",
      "\n"
     ]
    },
    {
     "data": {
      "image/png": "[encoded data removed]",
      "text/plain": [
       "<Figure size 432x288 with 2 Axes>"
      ]
     },
     "metadata": {
      "needs_background": "light"
     },
     "output_type": "display_data"
    }
   ],
   "source": [
    "# Step 1: Define the pipeline\n",
    "nb_pipeline = Pipeline([\n",
    "    ('tfidf', TfidfVectorizer()), \n",
    "    ('nb', MultinomialNB())\n",
    "])\n",
    "\n",
    "# Step 2: Set up parameter grid\n",
    "param_grid = {\n",
    "    'tfidf__max_features': [3000, 5000, 7000],\n",
    "    'tfidf__ngram_range': [(1, 1), (1, 2)],\n",
    "    'nb__alpha': [0.1, 0.5, 1.0]  # Laplace smoothing parameter\n",
    "}\n",
    "\n",
    "# Step 3: Initialize GridSearchCV\n",
    "grid_search_nb = GridSearchCV(nb_pipeline, param_grid, cv=5, scoring='f1', n_jobs=-1, verbose=1)\n",
    "\n",
    "# Step 4: Fit on training data\n",
    "grid_search_nb.fit(X_train, y_train)\n",
    "\n",
    "# Step 5: Evaluate on test data\n",
    "from sklearn.metrics import classification_report, confusion_matrix, ConfusionMatrixDisplay\n",
    "\n",
    "# Best estimator\n",
    "best_nb_model = grid_search_nb.best_estimator_\n",
    "y_pred_nb = best_nb_model.predict(X_test)\n",
    "\n",
    "# Report\n",
    "print(\" Best Parameters:\\n\", grid_search_nb.best_params_)\n",
    "print(\"\\n Classification Report:\\n\", classification_report(y_test, y_pred_nb))\n",
    "\n",
    "# Confusion Matrix\n",
    "cm = confusion_matrix(y_test, y_pred_nb)\n",
    "disp = ConfusionMatrixDisplay(confusion_matrix=cm)\n",
    "disp.plot(cmap='Blues')\n",
    "plt.title(\"Confusion Matrix - Best MultinomialNB\")\n",
    "plt.show()\n"
   ]
  },
  {
   "cell_type": "code",
   "execution_count": null,
   "id": "6a8ca382",
   "metadata": {},
   "outputs": [
    {
     "name": "stdout",
     "output_type": "stream",
     "text": [
      "Fitting 5 folds for each of 24 candidates, totalling 120 fits\n"
     ]
    },
    {
     "name": "stderr",
     "output_type": "stream",
     "text": [
      "[Parallel(n_jobs=-1)]: Using backend LokyBackend with 4 concurrent workers.\n",
      "[Parallel(n_jobs=-1)]: Done  42 tasks      | elapsed:   51.4s\n",
      "[Parallel(n_jobs=-1)]: Done 120 out of 120 | elapsed:  1.4min finished\n"
     ]
    },
    {
     "name": "stdout",
     "output_type": "stream",
     "text": [
      "Best Parameters:\n",
      " {'rf__max_depth': None, 'rf__n_estimators': 200, 'tfidf__max_features': 5000, 'tfidf__ngram_range': (1, 1)}\n",
      "\n",
      " Random Forest Classification Report:\n",
      "\n",
      "              precision    recall  f1-score   support\n",
      "\n",
      "           0       0.94      0.27      0.42       114\n",
      "           1       0.88      1.00      0.93       596\n",
      "\n",
      "    accuracy                           0.88       710\n",
      "   macro avg       0.91      0.63      0.68       710\n",
      "weighted avg       0.89      0.88      0.85       710\n",
      "\n"
     ]
    }
   ],
   "source": [
    "# Pipeline: TF-IDF + Random Forest\n",
    "rf_pipeline = Pipeline([\n",
    "    ('tfidf', TfidfVectorizer()),\n",
    "    ('rf', RandomForestClassifier(random_state=42))\n",
    "])\n",
    "\n",
    "# Grid of hyperparameters\n",
    "rf_param_grid = {\n",
    "    'tfidf__max_features': [5000, 7000],\n",
    "    'tfidf__ngram_range': [(1,1), (1,2)],\n",
    "    'rf__n_estimators': [100, 200],\n",
    "    'rf__max_depth': [None, 10, 20]\n",
    "}\n",
    "\n",
    "# GridSearch\n",
    "rf_grid = GridSearchCV(rf_pipeline, rf_param_grid, cv=5, scoring='f1', n_jobs=-1, verbose=1)\n",
    "rf_grid.fit(X_train, y_train)\n",
    "\n",
    "# Best model\n",
    "best_rf = rf_grid.best_estimator_\n",
    "print(\"Best Parameters:\\n\", rf_grid.best_params_)\n",
    "\n",
    "# Predict on test set\n",
    "y_pred_rf = best_rf.predict(X_test)\n",
    "\n",
    "# Evaluation\n",
    "print(\"\\n Random Forest Classification Report:\\n\")\n",
    "print(classification_report(y_test, y_pred_rf))\n"
   ]
  }
 ],
 "metadata": {
  "kernelspec": {
   "display_name": "learn-env",
   "language": "python",
   "name": "python3"
  },
  "language_info": {
   "codemirror_mode": {
    "name": "ipython",
    "version": 3
   },
   "file_extension": ".py",
   "mimetype": "text/x-python",
   "name": "python",
   "nbconvert_exporter": "python",
   "pygments_lexer": "ipython3",
   "version": "3.8.5"
  }
 },
 "nbformat": 4,
 "nbformat_minor": 5
}
