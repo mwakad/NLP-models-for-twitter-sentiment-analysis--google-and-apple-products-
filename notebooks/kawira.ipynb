{
 "cells": [
  {
   "cell_type": "markdown",
   "id": "0ca57cf6",
   "metadata": {},
   "source": [
    "# ***Sentiment Analysis of Tweets on Apple and Google Products***"
   ]
  },
  {
   "cell_type": "markdown",
   "id": "1d2a3778",
   "metadata": {},
   "source": [
    "\n",
    "\n",
    "## *Introduction*\n",
    "\n",
    "This project aims to perform sentiment analysis on tweets related to Apple and Google products using a labeled dataset. By classifying tweets as positive, negative, or neutral, we seek to understand public perception of these tech giants and uncover trends in user opinion. The dataset offers a realistic glimpse into consumer sentiment, making it ideal for training and evaluating NLP classification models."
   ]
  },
  {
   "cell_type": "markdown",
   "id": "95b3c466",
   "metadata": {},
   "source": [
    "### *Problem Statement*\n",
    "\n",
    "With millions of users sharing their opinions on social media, understanding customer sentiment toward major tech brands is vital. This project seeks to automatically classify tweets mentioning Apple and Google products into positive, negative, or neutral sentiments. By leveraging natural language processing, we aim to build a model that can extract meaningful insights from public opinion, helping stakeholders understand brand perception and inform strategic decisions."
   ]
  },
  {
   "cell_type": "markdown",
   "id": "9f23f1cf-01b3-4ab6-b1f1-ddc72cd0447a",
   "metadata": {},
   "source": [
    "### Dataset Overview: \"tweet_product_company.csv\"\n",
    "\n",
    "This dataset captures real-world tweet data mentioning Apple and Google products, offering a rich source of public sentiment expressed through social media. Each entry typically includes the tweet's text, the referenced product, the associated company (Apple or Google), and a sentiment label—categorized as **positive**, **negative**, or **neutral**.\n",
    "\n",
    "### Data Source\n",
    "\n",
    "The dataset was curated from Twitter via public scraping or aggregated repositories, specifically targeting mentions of Apple and Google. While exact sourcing details may vary, the collection aligns with ethical standards for public tweet analysis and is commonly used in NLP and sentiment modeling projects. It reflects organic user opinions and consumer reactions across various product releases, updates, and experiences.\n",
    "\n",
    "### Why This Dataset?\n",
    "\n",
    "This data is perfectly suited for sentiment analysis because:\n",
    "- Tweets are short, noisy, and opinion-driven—ideal for testing robust NLP techniques.\n",
    "- It supports both **binary** classification (positive vs negative) and **multiclass** sentiment prediction.\n",
    "- Comparative sentiment between Apple and Google enables business insights and brand analysis.\n",
    "- It offers real-world variability—emoji usage, slang, abbreviations—which makes preprocessing more meaningful.\n",
    "\n",
    "Through this dataset, we aim to:\n",
    "- Understand how users perceive Apple vs. Google across time.\n",
    "- Build a scalable model that can automatically detect sentiment in real time.\n",
    "- Extract actionable insights that can guide marketing, product improvements, and customer engagement.\n"
   ]
  },
  {
   "cell_type": "markdown",
   "id": "4f15cf57",
   "metadata": {},
   "source": [
    "## 1. ***DATA PREPARATION***"
   ]
  },
  {
   "cell_type": "markdown",
   "id": "50983f42",
   "metadata": {},
   "source": [
    "We will \n",
    "- import all neccessary libraries\n",
    "- load the 'twee_product_company.csv' dataset\n",
    "- exploratory inspection"
   ]
  },
  {
   "cell_type": "markdown",
   "id": "abaaefac",
   "metadata": {},
   "source": [
    "#### **a) importing necessary libraries** "
   ]
  },
  {
   "cell_type": "code",
   "execution_count": 1,
   "id": "8bb8a127",
   "metadata": {},
   "outputs": [],
   "source": [
    "# Core Libraries\n",
    "import pandas as pd\n",
    "import numpy as np\n",
    "\n",
    "# Text Preprocessing\n",
    "import re\n",
    "import string\n",
    "import nltk\n",
    "from nltk.corpus import stopwords\n",
    "from nltk.stem import WordNetLemmatizer\n",
    "\n",
    "# Visualization\n",
    "import matplotlib.pyplot as plt\n",
    "import seaborn as sns\n",
    "\n",
    "# Feature Extraction\n",
    "from sklearn.feature_extraction.text import TfidfVectorizer\n",
    "\n",
    "# Model Building\n",
    "from sklearn.model_selection import train_test_split\n",
    "from sklearn.linear_model import LogisticRegression\n",
    "from sklearn.metrics import classification_report, confusion_matrix"
   ]
  },
  {
   "cell_type": "markdown",
   "id": "14a7ac4e",
   "metadata": {},
   "source": [
    "#### **b) Loading the dataset**"
   ]
  },
  {
   "cell_type": "code",
   "execution_count": 12,
   "id": "049edcf9",
   "metadata": {},
   "outputs": [
    {
     "data": {
      "text/html": [
       "<div>\n",
       "<style scoped>\n",
       "    .dataframe tbody tr th:only-of-type {\n",
       "        vertical-align: middle;\n",
       "    }\n",
       "\n",
       "    .dataframe tbody tr th {\n",
       "        vertical-align: top;\n",
       "    }\n",
       "\n",
       "    .dataframe thead th {\n",
       "        text-align: right;\n",
       "    }\n",
       "</style>\n",
       "<table border=\"1\" class=\"dataframe\">\n",
       "  <thead>\n",
       "    <tr style=\"text-align: right;\">\n",
       "      <th></th>\n",
       "      <th>tweet_text</th>\n",
       "      <th>emotion_in_tweet_is_directed_at</th>\n",
       "      <th>is_there_an_emotion_directed_at_a_brand_or_product</th>\n",
       "    </tr>\n",
       "  </thead>\n",
       "  <tbody>\n",
       "    <tr>\n",
       "      <th>0</th>\n",
       "      <td>.@wesley83 I have a 3G iPhone. After 3 hrs twe...</td>\n",
       "      <td>iPhone</td>\n",
       "      <td>Negative emotion</td>\n",
       "    </tr>\n",
       "    <tr>\n",
       "      <th>1</th>\n",
       "      <td>@jessedee Know about @fludapp ? Awesome iPad/i...</td>\n",
       "      <td>iPad or iPhone App</td>\n",
       "      <td>Positive emotion</td>\n",
       "    </tr>\n",
       "    <tr>\n",
       "      <th>2</th>\n",
       "      <td>@swonderlin Can not wait for #iPad 2 also. The...</td>\n",
       "      <td>iPad</td>\n",
       "      <td>Positive emotion</td>\n",
       "    </tr>\n",
       "    <tr>\n",
       "      <th>3</th>\n",
       "      <td>@sxsw I hope this year's festival isn't as cra...</td>\n",
       "      <td>iPad or iPhone App</td>\n",
       "      <td>Negative emotion</td>\n",
       "    </tr>\n",
       "    <tr>\n",
       "      <th>4</th>\n",
       "      <td>@sxtxstate great stuff on Fri #SXSW: Marissa M...</td>\n",
       "      <td>Google</td>\n",
       "      <td>Positive emotion</td>\n",
       "    </tr>\n",
       "  </tbody>\n",
       "</table>\n",
       "</div>"
      ],
      "text/plain": [
       "                                          tweet_text  \\\n",
       "0  .@wesley83 I have a 3G iPhone. After 3 hrs twe...   \n",
       "1  @jessedee Know about @fludapp ? Awesome iPad/i...   \n",
       "2  @swonderlin Can not wait for #iPad 2 also. The...   \n",
       "3  @sxsw I hope this year's festival isn't as cra...   \n",
       "4  @sxtxstate great stuff on Fri #SXSW: Marissa M...   \n",
       "\n",
       "  emotion_in_tweet_is_directed_at  \\\n",
       "0                          iPhone   \n",
       "1              iPad or iPhone App   \n",
       "2                            iPad   \n",
       "3              iPad or iPhone App   \n",
       "4                          Google   \n",
       "\n",
       "  is_there_an_emotion_directed_at_a_brand_or_product  \n",
       "0                                   Negative emotion  \n",
       "1                                   Positive emotion  \n",
       "2                                   Positive emotion  \n",
       "3                                   Negative emotion  \n",
       "4                                   Positive emotion  "
      ]
     },
     "execution_count": 12,
     "metadata": {},
     "output_type": "execute_result"
    }
   ],
   "source": [
    "df = pd.read_csv('../data/tweet_product_company.csv', encoding='ISO-8859-1')\n",
    "df.head()"
   ]
  },
  {
   "cell_type": "markdown",
   "id": "8de404dc",
   "metadata": {},
   "source": [
    "#### **C) Exploratory inspection of the dataset**"
   ]
  },
  {
   "cell_type": "code",
   "execution_count": null,
   "id": "12fe655f",
   "metadata": {},
   "outputs": [
    {
     "data": {
      "text/plain": [
       "<bound method DataFrame.info of                                              tweet_text  \\\n",
       "0     .@wesley83 I have a 3G iPhone. After 3 hrs twe...   \n",
       "1     @jessedee Know about @fludapp ? Awesome iPad/i...   \n",
       "2     @swonderlin Can not wait for #iPad 2 also. The...   \n",
       "3     @sxsw I hope this year's festival isn't as cra...   \n",
       "4     @sxtxstate great stuff on Fri #SXSW: Marissa M...   \n",
       "...                                                 ...   \n",
       "9088                      Ipad everywhere. #SXSW {link}   \n",
       "9089  Wave, buzz... RT @mention We interrupt your re...   \n",
       "9090  Google's Zeiger, a physician never reported po...   \n",
       "9091  Some Verizon iPhone customers complained their...   \n",
       "9092  Ï¡Ïàü_ÊÎÒ£Áââ_£â_ÛâRT @...   \n",
       "\n",
       "     emotion_in_tweet_is_directed_at  \\\n",
       "0                             iPhone   \n",
       "1                 iPad or iPhone App   \n",
       "2                               iPad   \n",
       "3                 iPad or iPhone App   \n",
       "4                             Google   \n",
       "...                              ...   \n",
       "9088                            iPad   \n",
       "9089                             NaN   \n",
       "9090                             NaN   \n",
       "9091                             NaN   \n",
       "9092                             NaN   \n",
       "\n",
       "     is_there_an_emotion_directed_at_a_brand_or_product  \n",
       "0                                      Negative emotion  \n",
       "1                                      Positive emotion  \n",
       "2                                      Positive emotion  \n",
       "3                                      Negative emotion  \n",
       "4                                      Positive emotion  \n",
       "...                                                 ...  \n",
       "9088                                   Positive emotion  \n",
       "9089                 No emotion toward brand or product  \n",
       "9090                 No emotion toward brand or product  \n",
       "9091                 No emotion toward brand or product  \n",
       "9092                 No emotion toward brand or product  \n",
       "\n",
       "[9093 rows x 3 columns]>"
      ]
     },
     "execution_count": 4,
     "metadata": {},
     "output_type": "execute_result"
    }
   ],
   "source": [
    "df.info"
   ]
  },
  {
   "cell_type": "markdown",
   "id": "5896ef6c",
   "metadata": {},
   "source": [
    "DataFrame Summary\n",
    "\n",
    "This dataset contains **9,093 tweet entries** spread across **three columns**:\n",
    "\n",
    "1. `tweet_text`: The full text of each tweet, which serves as our input for sentiment classification.\n",
    "2. `emotion_in_tweet_is_directed_at`: Indicates which brand or product the emotion is directed at (e.g., iPhone, iPad, Google). Some entries may be missing (`NaN`), suggesting tweets without clear product targeting.\n",
    "3. `is_there_an_emotion_directed_at_a_brand_or_product`: Contains sentiment labels like \"Positive emotion,\" \"Negative emotion,\" or \"No emotion toward brand or product.\""
   ]
  },
  {
   "cell_type": "code",
   "execution_count": 11,
   "id": "29d68e3a",
   "metadata": {},
   "outputs": [
    {
     "data": {
      "text/html": [
       "<div>\n",
       "<style scoped>\n",
       "    .dataframe tbody tr th:only-of-type {\n",
       "        vertical-align: middle;\n",
       "    }\n",
       "\n",
       "    .dataframe tbody tr th {\n",
       "        vertical-align: top;\n",
       "    }\n",
       "\n",
       "    .dataframe thead th {\n",
       "        text-align: right;\n",
       "    }\n",
       "</style>\n",
       "<table border=\"1\" class=\"dataframe\">\n",
       "  <thead>\n",
       "    <tr style=\"text-align: right;\">\n",
       "      <th></th>\n",
       "      <th>tweet_text</th>\n",
       "      <th>emotion_in_tweet_is_directed_at</th>\n",
       "      <th>is_there_an_emotion_directed_at_a_brand_or_product</th>\n",
       "    </tr>\n",
       "  </thead>\n",
       "  <tbody>\n",
       "    <tr>\n",
       "      <th>count</th>\n",
       "      <td>9092</td>\n",
       "      <td>3291</td>\n",
       "      <td>9093</td>\n",
       "    </tr>\n",
       "    <tr>\n",
       "      <th>unique</th>\n",
       "      <td>9065</td>\n",
       "      <td>9</td>\n",
       "      <td>4</td>\n",
       "    </tr>\n",
       "    <tr>\n",
       "      <th>top</th>\n",
       "      <td>RT @mention Marissa Mayer: Google Will Connect...</td>\n",
       "      <td>iPad</td>\n",
       "      <td>No emotion toward brand or product</td>\n",
       "    </tr>\n",
       "    <tr>\n",
       "      <th>freq</th>\n",
       "      <td>5</td>\n",
       "      <td>946</td>\n",
       "      <td>5389</td>\n",
       "    </tr>\n",
       "  </tbody>\n",
       "</table>\n",
       "</div>"
      ],
      "text/plain": [
       "                                               tweet_text  \\\n",
       "count                                                9092   \n",
       "unique                                               9065   \n",
       "top     RT @mention Marissa Mayer: Google Will Connect...   \n",
       "freq                                                    5   \n",
       "\n",
       "       emotion_in_tweet_is_directed_at  \\\n",
       "count                             3291   \n",
       "unique                               9   \n",
       "top                               iPad   \n",
       "freq                               946   \n",
       "\n",
       "       is_there_an_emotion_directed_at_a_brand_or_product  \n",
       "count                                                9093  \n",
       "unique                                                  4  \n",
       "top                    No emotion toward brand or product  \n",
       "freq                                                 5389  "
      ]
     },
     "execution_count": 11,
     "metadata": {},
     "output_type": "execute_result"
    }
   ],
   "source": [
    "df.describe(include='object')"
   ]
  },
  {
   "cell_type": "markdown",
   "id": "144e3433",
   "metadata": {},
   "source": [
    "Data Summary\n",
    "\n",
    "The `.describe()` method provides a high-level overview of the dataset’s non-numeric columns:\n",
    "\n",
    "- **`tweet_text`**  \n",
    "  - **Count**: 9,092 entries  \n",
    "  - **Unique**: 9,065 distinct tweets  \n",
    "  - **Most Frequent Tweet**: `\"RT @mention Marissa Mayer: Google Will Connect...\"`  \n",
    "  - **Frequency**: 5 occurrences  \n",
    "\n",
    "- **`emotion_in_tweet_is_directed_at`**  \n",
    "  - **Count**: 3,291 entries (many missing values)  \n",
    "  - **Unique Targets**: 9 (e.g., iPad, iPhone, Google)  \n",
    "  - **Most Common Target**: `\"iPad\"`  \n",
    "  - **Frequency**: 946 times  \n",
    "\n",
    "- **`is_there_an_emotion_directed_at_a_brand_or_product`**  \n",
    "  - **Count**: 9,093 entries  \n",
    "  - **Unique Sentiments**: 4  \n",
    "  - **Most Common**: `\"No emotion toward brand or product\"`  \n",
    "  - **Frequency**: 5,389 entries\n",
    "\n"
   ]
  },
  {
   "cell_type": "markdown",
   "id": "b4d3ba2a",
   "metadata": {},
   "source": [
    "## ***2. DATA PREPROCESSING***"
   ]
  },
  {
   "cell_type": "markdown",
   "id": "482e898e",
   "metadata": {},
   "source": []
  }
 ],
 "metadata": {
  "kernelspec": {
   "display_name": "learn-env",
   "language": "python",
   "name": "python3"
  },
  "language_info": {
   "codemirror_mode": {
    "name": "ipython",
    "version": 3
   },
   "file_extension": ".py",
   "mimetype": "text/x-python",
   "name": "python",
   "nbconvert_exporter": "python",
   "pygments_lexer": "ipython3",
   "version": "3.8.5"
  }
 },
 "nbformat": 4,
 "nbformat_minor": 5
}
