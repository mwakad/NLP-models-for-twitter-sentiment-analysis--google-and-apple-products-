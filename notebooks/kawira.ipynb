{
 "cells": [
  {
   "cell_type": "markdown",
   "id": "0ca57cf6",
   "metadata": {},
   "source": [
    "# ***Sentiment Analysis of Tweets on Apple and Google Products***"
   ]
  },
  {
   "cell_type": "markdown",
   "id": "1d2a3778",
   "metadata": {},
   "source": [
    "\n",
    "\n",
    "## *Introduction*\n",
    "\n",
    "This project aims to perform sentiment analysis on tweets related to Apple and Google products using a labeled dataset. By classifying tweets as positive, negative, or neutral, we seek to understand public perception of these tech giants and uncover trends in user opinion. The dataset offers a realistic glimpse into consumer sentiment, making it ideal for training and evaluating NLP classification models."
   ]
  },
  {
   "cell_type": "markdown",
   "id": "95b3c466",
   "metadata": {},
   "source": [
    "### *Problem Statement*\n",
    "\n",
    "With millions of users sharing their opinions on social media, understanding customer sentiment toward major tech brands is vital. This project seeks to automatically classify tweets mentioning Apple and Google products into positive, negative, or neutral sentiments. By leveraging natural language processing, we aim to build a model that can extract meaningful insights from public opinion, helping stakeholders understand brand perception and inform strategic decisions."
   ]
  },
  {
   "cell_type": "markdown",
   "id": "9f23f1cf-01b3-4ab6-b1f1-ddc72cd0447a",
   "metadata": {},
   "source": [
    "### Dataset Overview: \"tweet_product_company.csv\"\n",
    "\n",
    "This dataset captures real-world tweet data mentioning Apple and Google products, offering a rich source of public sentiment expressed through social media. Each entry typically includes the tweet's text, the referenced product, the associated company (Apple or Google), and a sentiment label—categorized as **positive**, **negative**, or **neutral**.\n",
    "\n",
    "### Data Source\n",
    "\n",
    "The dataset was curated from Twitter via public scraping or aggregated repositories, specifically targeting mentions of Apple and Google. While exact sourcing details may vary, the collection aligns with ethical standards for public tweet analysis and is commonly used in NLP and sentiment modeling projects. It reflects organic user opinions and consumer reactions across various product releases, updates, and experiences.\n",
    "\n",
    "### Why This Dataset?\n",
    "\n",
    "This data is perfectly suited for sentiment analysis because:\n",
    "- Tweets are short, noisy, and opinion-driven—ideal for testing robust NLP techniques.\n",
    "- It supports both **binary** classification (positive vs negative) and **multiclass** sentiment prediction.\n",
    "- Comparative sentiment between Apple and Google enables business insights and brand analysis.\n",
    "- It offers real-world variability—emoji usage, slang, abbreviations—which makes preprocessing more meaningful.\n",
    "\n",
    "Through this dataset, we aim to:\n",
    "- Understand how users perceive Apple vs. Google across time.\n",
    "- Build a scalable model that can automatically detect sentiment in real time.\n",
    "- Extract actionable insights that can guide marketing, product improvements, and customer engagement.\n"
   ]
  },
  {
   "cell_type": "markdown",
   "id": "4f15cf57",
   "metadata": {},
   "source": [
    "## 1. ***DATA PREPARATION***"
   ]
  },
  {
   "cell_type": "markdown",
   "id": "50983f42",
   "metadata": {},
   "source": [
    "We will \n",
    "- import all neccessary libraries\n",
    "- load the 'twee_product_company.csv' dataset\n",
    "- exploratory inspection"
   ]
  },
  {
   "cell_type": "markdown",
   "id": "abaaefac",
   "metadata": {},
   "source": [
    "#### **a) importing necessary libraries** "
   ]
  },
  {
   "cell_type": "code",
   "execution_count": 41,
   "id": "8bb8a127",
   "metadata": {},
   "outputs": [],
   "source": [
    "# Core Libraries\n",
    "import pandas as pd\n",
    "import numpy as np\n",
    "\n",
    "# Text Preprocessing\n",
    "import re\n",
    "import string\n",
    "import nltk\n",
    "from nltk.corpus import stopwords\n",
    "from nltk.stem import WordNetLemmatizer\n",
    "from nltk.tokenize import word_tokenize\n",
    "\n",
    "# Visualization\n",
    "import matplotlib.pyplot as plt\n",
    "import seaborn as sns\n",
    "\n",
    "# Feature Extraction\n",
    "from sklearn.feature_extraction.text import TfidfVectorizer\n",
    "\n",
    "# Model Building\n",
    "from sklearn.model_selection import train_test_split\n",
    "from sklearn.linear_model import LogisticRegression\n",
    "from sklearn.metrics import classification_report, confusion_matrix"
   ]
  },
  {
   "cell_type": "markdown",
   "id": "14a7ac4e",
   "metadata": {},
   "source": [
    "#### **b) Loading the dataset**"
   ]
  },
  {
   "cell_type": "code",
   "execution_count": 23,
   "id": "049edcf9",
   "metadata": {},
   "outputs": [
    {
     "data": {
      "text/html": [
       "<div>\n",
       "<style scoped>\n",
       "    .dataframe tbody tr th:only-of-type {\n",
       "        vertical-align: middle;\n",
       "    }\n",
       "\n",
       "    .dataframe tbody tr th {\n",
       "        vertical-align: top;\n",
       "    }\n",
       "\n",
       "    .dataframe thead th {\n",
       "        text-align: right;\n",
       "    }\n",
       "</style>\n",
       "<table border=\"1\" class=\"dataframe\">\n",
       "  <thead>\n",
       "    <tr style=\"text-align: right;\">\n",
       "      <th></th>\n",
       "      <th>tweet_text</th>\n",
       "      <th>emotion_in_tweet_is_directed_at</th>\n",
       "      <th>is_there_an_emotion_directed_at_a_brand_or_product</th>\n",
       "    </tr>\n",
       "  </thead>\n",
       "  <tbody>\n",
       "    <tr>\n",
       "      <th>0</th>\n",
       "      <td>.@wesley83 I have a 3G iPhone. After 3 hrs twe...</td>\n",
       "      <td>iPhone</td>\n",
       "      <td>Negative emotion</td>\n",
       "    </tr>\n",
       "    <tr>\n",
       "      <th>1</th>\n",
       "      <td>@jessedee Know about @fludapp ? Awesome iPad/i...</td>\n",
       "      <td>iPad or iPhone App</td>\n",
       "      <td>Positive emotion</td>\n",
       "    </tr>\n",
       "    <tr>\n",
       "      <th>2</th>\n",
       "      <td>@swonderlin Can not wait for #iPad 2 also. The...</td>\n",
       "      <td>iPad</td>\n",
       "      <td>Positive emotion</td>\n",
       "    </tr>\n",
       "    <tr>\n",
       "      <th>3</th>\n",
       "      <td>@sxsw I hope this year's festival isn't as cra...</td>\n",
       "      <td>iPad or iPhone App</td>\n",
       "      <td>Negative emotion</td>\n",
       "    </tr>\n",
       "    <tr>\n",
       "      <th>4</th>\n",
       "      <td>@sxtxstate great stuff on Fri #SXSW: Marissa M...</td>\n",
       "      <td>Google</td>\n",
       "      <td>Positive emotion</td>\n",
       "    </tr>\n",
       "  </tbody>\n",
       "</table>\n",
       "</div>"
      ],
      "text/plain": [
       "                                          tweet_text  \\\n",
       "0  .@wesley83 I have a 3G iPhone. After 3 hrs twe...   \n",
       "1  @jessedee Know about @fludapp ? Awesome iPad/i...   \n",
       "2  @swonderlin Can not wait for #iPad 2 also. The...   \n",
       "3  @sxsw I hope this year's festival isn't as cra...   \n",
       "4  @sxtxstate great stuff on Fri #SXSW: Marissa M...   \n",
       "\n",
       "  emotion_in_tweet_is_directed_at  \\\n",
       "0                          iPhone   \n",
       "1              iPad or iPhone App   \n",
       "2                            iPad   \n",
       "3              iPad or iPhone App   \n",
       "4                          Google   \n",
       "\n",
       "  is_there_an_emotion_directed_at_a_brand_or_product  \n",
       "0                                   Negative emotion  \n",
       "1                                   Positive emotion  \n",
       "2                                   Positive emotion  \n",
       "3                                   Negative emotion  \n",
       "4                                   Positive emotion  "
      ]
     },
     "execution_count": 23,
     "metadata": {},
     "output_type": "execute_result"
    }
   ],
   "source": [
    "df = pd.read_csv('../data/tweet_product_company.csv', encoding='ISO-8859-1')\n",
    "df.head()"
   ]
  },
  {
   "cell_type": "markdown",
   "id": "8de404dc",
   "metadata": {},
   "source": [
    "#### **C) Exploratory inspection of the dataset**"
   ]
  },
  {
   "cell_type": "code",
   "execution_count": null,
   "id": "12fe655f",
   "metadata": {},
   "outputs": [
    {
     "data": {
      "text/plain": [
       "<bound method DataFrame.info of                                              tweet_text  \\\n",
       "0     .@wesley83 I have a 3G iPhone. After 3 hrs twe...   \n",
       "1     @jessedee Know about @fludapp ? Awesome iPad/i...   \n",
       "2     @swonderlin Can not wait for #iPad 2 also. The...   \n",
       "3     @sxsw I hope this year's festival isn't as cra...   \n",
       "4     @sxtxstate great stuff on Fri #SXSW: Marissa M...   \n",
       "...                                                 ...   \n",
       "9088                      Ipad everywhere. #SXSW {link}   \n",
       "9089  Wave, buzz... RT @mention We interrupt your re...   \n",
       "9090  Google's Zeiger, a physician never reported po...   \n",
       "9091  Some Verizon iPhone customers complained their...   \n",
       "9092  Ï¡Ïàü_ÊÎÒ£Áââ_£â_ÛâRT @...   \n",
       "\n",
       "     emotion_in_tweet_is_directed_at  \\\n",
       "0                             iPhone   \n",
       "1                 iPad or iPhone App   \n",
       "2                               iPad   \n",
       "3                 iPad or iPhone App   \n",
       "4                             Google   \n",
       "...                              ...   \n",
       "9088                            iPad   \n",
       "9089                             NaN   \n",
       "9090                             NaN   \n",
       "9091                             NaN   \n",
       "9092                             NaN   \n",
       "\n",
       "     is_there_an_emotion_directed_at_a_brand_or_product  \n",
       "0                                      Negative emotion  \n",
       "1                                      Positive emotion  \n",
       "2                                      Positive emotion  \n",
       "3                                      Negative emotion  \n",
       "4                                      Positive emotion  \n",
       "...                                                 ...  \n",
       "9088                                   Positive emotion  \n",
       "9089                 No emotion toward brand or product  \n",
       "9090                 No emotion toward brand or product  \n",
       "9091                 No emotion toward brand or product  \n",
       "9092                 No emotion toward brand or product  \n",
       "\n",
       "[9093 rows x 3 columns]>"
      ]
     },
     "execution_count": 4,
     "metadata": {},
     "output_type": "execute_result"
    }
   ],
   "source": [
    "df.info"
   ]
  },
  {
   "cell_type": "markdown",
   "id": "5896ef6c",
   "metadata": {},
   "source": [
    "DataFrame Summary\n",
    "\n",
    "This dataset contains **9,093 tweet entries** spread across **three columns**:\n",
    "\n",
    "1. `tweet_text`: The full text of each tweet, which serves as our input for sentiment classification.\n",
    "2. `emotion_in_tweet_is_directed_at`: Indicates which brand or product the emotion is directed at (e.g., iPhone, iPad, Google). Some entries may be missing (`NaN`), suggesting tweets without clear product targeting.\n",
    "3. `is_there_an_emotion_directed_at_a_brand_or_product`: Contains sentiment labels like \"Positive emotion,\" \"Negative emotion,\" or \"No emotion toward brand or product.\""
   ]
  },
  {
   "cell_type": "code",
   "execution_count": 11,
   "id": "29d68e3a",
   "metadata": {},
   "outputs": [
    {
     "data": {
      "text/html": [
       "<div>\n",
       "<style scoped>\n",
       "    .dataframe tbody tr th:only-of-type {\n",
       "        vertical-align: middle;\n",
       "    }\n",
       "\n",
       "    .dataframe tbody tr th {\n",
       "        vertical-align: top;\n",
       "    }\n",
       "\n",
       "    .dataframe thead th {\n",
       "        text-align: right;\n",
       "    }\n",
       "</style>\n",
       "<table border=\"1\" class=\"dataframe\">\n",
       "  <thead>\n",
       "    <tr style=\"text-align: right;\">\n",
       "      <th></th>\n",
       "      <th>tweet_text</th>\n",
       "      <th>emotion_in_tweet_is_directed_at</th>\n",
       "      <th>is_there_an_emotion_directed_at_a_brand_or_product</th>\n",
       "    </tr>\n",
       "  </thead>\n",
       "  <tbody>\n",
       "    <tr>\n",
       "      <th>count</th>\n",
       "      <td>9092</td>\n",
       "      <td>3291</td>\n",
       "      <td>9093</td>\n",
       "    </tr>\n",
       "    <tr>\n",
       "      <th>unique</th>\n",
       "      <td>9065</td>\n",
       "      <td>9</td>\n",
       "      <td>4</td>\n",
       "    </tr>\n",
       "    <tr>\n",
       "      <th>top</th>\n",
       "      <td>RT @mention Marissa Mayer: Google Will Connect...</td>\n",
       "      <td>iPad</td>\n",
       "      <td>No emotion toward brand or product</td>\n",
       "    </tr>\n",
       "    <tr>\n",
       "      <th>freq</th>\n",
       "      <td>5</td>\n",
       "      <td>946</td>\n",
       "      <td>5389</td>\n",
       "    </tr>\n",
       "  </tbody>\n",
       "</table>\n",
       "</div>"
      ],
      "text/plain": [
       "                                               tweet_text  \\\n",
       "count                                                9092   \n",
       "unique                                               9065   \n",
       "top     RT @mention Marissa Mayer: Google Will Connect...   \n",
       "freq                                                    5   \n",
       "\n",
       "       emotion_in_tweet_is_directed_at  \\\n",
       "count                             3291   \n",
       "unique                               9   \n",
       "top                               iPad   \n",
       "freq                               946   \n",
       "\n",
       "       is_there_an_emotion_directed_at_a_brand_or_product  \n",
       "count                                                9093  \n",
       "unique                                                  4  \n",
       "top                    No emotion toward brand or product  \n",
       "freq                                                 5389  "
      ]
     },
     "execution_count": 11,
     "metadata": {},
     "output_type": "execute_result"
    }
   ],
   "source": [
    "df.describe(include='object')"
   ]
  },
  {
   "cell_type": "markdown",
   "id": "144e3433",
   "metadata": {},
   "source": [
    "Data Summary\n",
    "\n",
    "The `.describe()` method provides a high-level overview of the dataset’s non-numeric columns:\n",
    "\n",
    "- **`tweet_text`**  \n",
    "  - **Count**: 9,092 entries  \n",
    "  - **Unique**: 9,065 distinct tweets  \n",
    "  - **Most Frequent Tweet**: `\"RT @mention Marissa Mayer: Google Will Connect...\"`  \n",
    "  - **Frequency**: 5 occurrences  \n",
    "\n",
    "- **`emotion_in_tweet_is_directed_at`**  \n",
    "  - **Count**: 3,291 entries (many missing values)  \n",
    "  - **Unique Targets**: 9 (e.g., iPad, iPhone, Google)  \n",
    "  - **Most Common Target**: `\"iPad\"`  \n",
    "  - **Frequency**: 946 times  \n",
    "\n",
    "- **`is_there_an_emotion_directed_at_a_brand_or_product`**  \n",
    "  - **Count**: 9,093 entries  \n",
    "  - **Unique Sentiments**: 4  \n",
    "  - **Most Common**: `\"No emotion toward brand or product\"`  \n",
    "  - **Frequency**: 5,389 entries\n",
    "\n"
   ]
  },
  {
   "cell_type": "code",
   "execution_count": 24,
   "id": "edc0e3c1",
   "metadata": {},
   "outputs": [
    {
     "data": {
      "image/png": "[encoded data removed]",
      "text/plain": [
       "<Figure size 1008x432 with 1 Axes>"
      ]
     },
     "metadata": {
      "needs_background": "light"
     },
     "output_type": "display_data"
    }
   ],
   "source": [
    "# Check the distribution of sentiment labels\n",
    "plt.figure(figsize=(14, 6))\n",
    "df['is_there_an_emotion_directed_at_a_brand_or_product'].value_counts().plot(\n",
    "    kind='bar', \n",
    "    color=['skyblue', 'salmon', 'lightgreen', 'gray']\n",
    ")\n",
    "plt.title('Sentiment Label Distribution')\n",
    "plt.xlabel('Sentiment Label')\n",
    "plt.ylabel('Count')\n",
    "plt.xticks(rotation=0)\n",
    "\n",
    "plt.tight_layout()\n",
    "plt.show()"
   ]
  },
  {
   "cell_type": "markdown",
   "id": "b4d3ba2a",
   "metadata": {},
   "source": [
    "## ***2. DATA PREPROCESSING AND CLEANING***"
   ]
  },
  {
   "cell_type": "markdown",
   "id": "482e898e",
   "metadata": {},
   "source": [
    "steps in preprocessing:\n",
    "- rename columns\n",
    "- Drop rows with missing or undefined targets if needed\n",
    "- Normalize tweet text: lowercase, strip links, mentions, punctuation\n",
    "- Tokenize & lemmatize\n",
    "- Remove stopwords for clarity\n"
   ]
  },
  {
   "cell_type": "code",
   "execution_count": 27,
   "id": "78b8ac20",
   "metadata": {},
   "outputs": [],
   "source": [
    "df = df.rename(columns={\n",
    "    'tweet_text': 'text',\n",
    "    'is_there_an_emotion_directed_at_a_brand_or_product': 'sentiment',\n",
    "    'emotion_in_tweet_is_directed_at': 'brand'\n",
    "})\n",
    "df = df[['text', 'sentiment', 'brand']]"
   ]
  },
  {
   "cell_type": "code",
   "execution_count": 28,
   "id": "6a22b5d2",
   "metadata": {},
   "outputs": [
    {
     "data": {
      "text/html": [
       "<div>\n",
       "<style scoped>\n",
       "    .dataframe tbody tr th:only-of-type {\n",
       "        vertical-align: middle;\n",
       "    }\n",
       "\n",
       "    .dataframe tbody tr th {\n",
       "        vertical-align: top;\n",
       "    }\n",
       "\n",
       "    .dataframe thead th {\n",
       "        text-align: right;\n",
       "    }\n",
       "</style>\n",
       "<table border=\"1\" class=\"dataframe\">\n",
       "  <thead>\n",
       "    <tr style=\"text-align: right;\">\n",
       "      <th></th>\n",
       "      <th>text</th>\n",
       "      <th>sentiment</th>\n",
       "      <th>brand</th>\n",
       "    </tr>\n",
       "  </thead>\n",
       "  <tbody>\n",
       "    <tr>\n",
       "      <th>0</th>\n",
       "      <td>.@wesley83 I have a 3G iPhone. After 3 hrs twe...</td>\n",
       "      <td>Negative emotion</td>\n",
       "      <td>iPhone</td>\n",
       "    </tr>\n",
       "    <tr>\n",
       "      <th>1</th>\n",
       "      <td>@jessedee Know about @fludapp ? Awesome iPad/i...</td>\n",
       "      <td>Positive emotion</td>\n",
       "      <td>iPad or iPhone App</td>\n",
       "    </tr>\n",
       "    <tr>\n",
       "      <th>2</th>\n",
       "      <td>@swonderlin Can not wait for #iPad 2 also. The...</td>\n",
       "      <td>Positive emotion</td>\n",
       "      <td>iPad</td>\n",
       "    </tr>\n",
       "    <tr>\n",
       "      <th>3</th>\n",
       "      <td>@sxsw I hope this year's festival isn't as cra...</td>\n",
       "      <td>Negative emotion</td>\n",
       "      <td>iPad or iPhone App</td>\n",
       "    </tr>\n",
       "    <tr>\n",
       "      <th>4</th>\n",
       "      <td>@sxtxstate great stuff on Fri #SXSW: Marissa M...</td>\n",
       "      <td>Positive emotion</td>\n",
       "      <td>Google</td>\n",
       "    </tr>\n",
       "  </tbody>\n",
       "</table>\n",
       "</div>"
      ],
      "text/plain": [
       "                                                text         sentiment  \\\n",
       "0  .@wesley83 I have a 3G iPhone. After 3 hrs twe...  Negative emotion   \n",
       "1  @jessedee Know about @fludapp ? Awesome iPad/i...  Positive emotion   \n",
       "2  @swonderlin Can not wait for #iPad 2 also. The...  Positive emotion   \n",
       "3  @sxsw I hope this year's festival isn't as cra...  Negative emotion   \n",
       "4  @sxtxstate great stuff on Fri #SXSW: Marissa M...  Positive emotion   \n",
       "\n",
       "                brand  \n",
       "0              iPhone  \n",
       "1  iPad or iPhone App  \n",
       "2                iPad  \n",
       "3  iPad or iPhone App  \n",
       "4              Google  "
      ]
     },
     "execution_count": 28,
     "metadata": {},
     "output_type": "execute_result"
    }
   ],
   "source": [
    "df.head(5)"
   ]
  },
  {
   "cell_type": "code",
   "execution_count": 30,
   "id": "7e64e72c",
   "metadata": {},
   "outputs": [
    {
     "data": {
      "text/plain": [
       "No emotion toward brand or product    5389\n",
       "Positive emotion                      2978\n",
       "Negative emotion                       570\n",
       "I can't tell                           156\n",
       "Name: sentiment, dtype: int64"
      ]
     },
     "execution_count": 30,
     "metadata": {},
     "output_type": "execute_result"
    }
   ],
   "source": [
    "df['sentiment'].value_counts()"
   ]
  },
  {
   "cell_type": "code",
   "execution_count": 31,
   "id": "828820b7",
   "metadata": {},
   "outputs": [
    {
     "name": "stdout",
     "output_type": "stream",
     "text": [
      "Rex Woof!\n",
      "Whiskers Meow\n",
      "Bessie Moo\n"
     ]
    }
   ],
   "source": [
    "class Animal:  # Base class\n",
    "    def __init__(self, name):\n",
    "        self.name = name\n",
    "\n",
    "    def speak(self):\n",
    "        return \"Some sound\"\n",
    "\n",
    "class Dog(Animal):  # Inherited class\n",
    "    def speak(self):\n",
    "        return \"Woof!\"\n",
    "\n",
    "class Cat(Animal):\n",
    "    def speak(self):\n",
    "        return \"Meow\"\n",
    "class cow(Animal):\n",
    "    def speak(self):\n",
    "        return \"Moo\"\n",
    "\n",
    "dog = Dog(\"Rex\")\n",
    "cat = Cat(\"Whiskers\")\n",
    "cow = cow(\"Bessie\")\n",
    "\n",
    "print(dog.name, dog.speak())  # Rex Woof!\n",
    "print(cat.name, cat.speak())  # Whiskers Meow\n",
    "print(cow.name, cow.speak())  # Bessie Moo\n"
   ]
  },
  {
   "cell_type": "code",
   "execution_count": 32,
   "id": "941d6d97",
   "metadata": {},
   "outputs": [
    {
     "name": "stdout",
     "output_type": "stream",
     "text": [
      "                                                text         sentiment  \\\n",
      "0  i have a 3g iphone after 3 hrs tweeting at it ...  Negative emotion   \n",
      "1  know about awesome ipadiphone app that youll l...  Positive emotion   \n",
      "2  can not wait for 2 also they should sale them ...  Positive emotion   \n",
      "3  i hope this years festival isnt as crashy as t...  Negative emotion   \n",
      "4  great stuff on fri marissa mayer google tim or...  Positive emotion   \n",
      "\n",
      "                brand  \n",
      "0              iPhone  \n",
      "1  iPad or iPhone App  \n",
      "2                iPad  \n",
      "3  iPad or iPhone App  \n",
      "4              Google  \n"
     ]
    }
   ],
   "source": [
    "class DataCleaner:\n",
    "    def __init__(self, df):\n",
    "      self.df = df.copy()\n",
    "\n",
    "    def remove_duplicates(self):\n",
    "        # remove duplicates\n",
    "        self.df.drop_duplicates(inplace=True)\n",
    "   \n",
    "    def clean_text(self):\n",
    "        # removve mentons , urls,hashtag symbol,punctuation and digits\n",
    "        self.df['text'] = self.df['text'].str.replace(r'@\\w+', '', regex=True)# Remove mentions\n",
    "        self.df['text'] = self.df['text'].str.replace(r'http\\S+|www\\S+|https\\S+', '', regex=True)  # Remove URLs\n",
    "        self.df['text'] = self.df['text'].str.replace(r'#\\w+', '', regex=True) # Remove hashtags\n",
    "       # self.df['text'] = self.df['text'].str.replace(r'\\d+', '', regex=True) # Remove digits\n",
    "        self.df['text'] = self.df['text'].str.replace(r'[^\\w\\s]', '', regex=True) # Remove punctuation  \n",
    "        #lowercase the text   \n",
    "        self.df['text'] = self.df['text'].str.lower()  # Convert to lowercase\n",
    "        # Remove leading and trailing whitespace\n",
    "        self.df['text'] = self.df['text'].str.strip()  # Remove leading and trailing whitespace\n",
    "        # Remove extra spaces\n",
    "        self.df['text'] = self.df['text'].str.replace(r'\\s+', ' ', regex=True)  # Remove extra spaces\n",
    "        # Remove empty strings\n",
    "        self.df = self.df[self.df['text'] != '']\n",
    "        # Remove rows with empty text\n",
    "        self.df = self.df[self.df['text'].notna()]\n",
    "\n",
    "    def get_cleaned_data(self):\n",
    "        return self.df  \n",
    "cleaner = DataCleaner(df)\n",
    "#cleaner.fill_missing_values()\n",
    "cleaner.remove_duplicates()\n",
    "#cleaner.lowercase_columns()\n",
    "# new column cleaned_text\n",
    "df['cleaned_text']=cleaner.clean_text()\n",
    "cleaned_df = cleaner.get_cleaned_data()\n",
    "print(cleaned_df.head())\n"
   ]
  },
  {
   "cell_type": "code",
   "execution_count": 33,
   "id": "a5b48b45",
   "metadata": {},
   "outputs": [
    {
     "data": {
      "text/plain": [
       "text            0\n",
       "sentiment       0\n",
       "brand        5786\n",
       "dtype: int64"
      ]
     },
     "execution_count": 33,
     "metadata": {},
     "output_type": "execute_result"
    }
   ],
   "source": [
    "#checking missing values\n",
    "cleaned_df.isnull().sum()"
   ]
  },
  {
   "cell_type": "code",
   "execution_count": 38,
   "id": "d503f64a",
   "metadata": {},
   "outputs": [],
   "source": [
    "#drop brand column\n",
    "cleaned_df = cleaned_df.drop(columns=['brand'])"
   ]
  },
  {
   "cell_type": "code",
   "execution_count": null,
   "id": "b790872f",
   "metadata": {},
   "outputs": [
    {
     "data": {
      "text/plain": [
       "(9068, 2)"
      ]
     },
     "execution_count": 39,
     "metadata": {},
     "output_type": "execute_result"
    }
   ],
   "source": [
    "cleaned_df.shape"
   ]
  },
  {
   "cell_type": "code",
   "execution_count": 40,
   "id": "3c9dd310",
   "metadata": {},
   "outputs": [
    {
     "data": {
      "text/plain": [
       "Apple     4850\n",
       "Google    2437\n",
       "Other     1781\n",
       "Name: brand_category, dtype: int64"
      ]
     },
     "execution_count": 40,
     "metadata": {},
     "output_type": "execute_result"
    }
   ],
   "source": [
    "class BrandCategorizer:\n",
    "    def __init__(self, df):\n",
    "        self.df = df.copy()\n",
    "    def categorize_brand(self, text):\n",
    "        if pd.isna( text):\n",
    "            return 'Unknown'\n",
    "         #text =  text.lower()\n",
    "        if any(x in  text for x in ['apple', 'iphone', 'ipad', 'macbook']):\n",
    "            return 'Apple'\n",
    "        elif any(x in  text for x in ['google', 'android', 'pixel', 'chromebook']):\n",
    "            return 'Google'\n",
    "        else:\n",
    "            return 'Other'\n",
    "    def apply_categorization(self):\n",
    "        self.df['brand_category'] = self.df['text'].apply(self.categorize_brand)\n",
    "        return self.df\n",
    "categorizer = BrandCategorizer(cleaned_df)\n",
    "cleaned_df = categorizer.apply_categorization()\n",
    "cleaned_df['brand_category'].value_counts()\n"
   ]
  },
  {
   "cell_type": "code",
   "execution_count": 42,
   "id": "87dd802b",
   "metadata": {},
   "outputs": [
    {
     "name": "stderr",
     "output_type": "stream",
     "text": [
      "[nltk_data] Downloading package punkt to\n",
      "[nltk_data]     C:\\Users\\HomePC\\AppData\\Roaming\\nltk_data...\n",
      "[nltk_data]   Package punkt is already up-to-date!\n"
     ]
    },
    {
     "data": {
      "text/html": [
       "<div>\n",
       "<style scoped>\n",
       "    .dataframe tbody tr th:only-of-type {\n",
       "        vertical-align: middle;\n",
       "    }\n",
       "\n",
       "    .dataframe tbody tr th {\n",
       "        vertical-align: top;\n",
       "    }\n",
       "\n",
       "    .dataframe thead th {\n",
       "        text-align: right;\n",
       "    }\n",
       "</style>\n",
       "<table border=\"1\" class=\"dataframe\">\n",
       "  <thead>\n",
       "    <tr style=\"text-align: right;\">\n",
       "      <th></th>\n",
       "      <th>text</th>\n",
       "      <th>sentiment</th>\n",
       "      <th>brand_category</th>\n",
       "      <th>tokenized_text</th>\n",
       "    </tr>\n",
       "  </thead>\n",
       "  <tbody>\n",
       "    <tr>\n",
       "      <th>0</th>\n",
       "      <td>i have a 3g iphone after 3 hrs tweeting at it ...</td>\n",
       "      <td>Negative emotion</td>\n",
       "      <td>Apple</td>\n",
       "      <td>[i, have, a, 3g, iphone, after, 3, hrs, tweeti...</td>\n",
       "    </tr>\n",
       "    <tr>\n",
       "      <th>1</th>\n",
       "      <td>know about awesome ipadiphone app that youll l...</td>\n",
       "      <td>Positive emotion</td>\n",
       "      <td>Apple</td>\n",
       "      <td>[know, about, awesome, ipadiphone, app, that, ...</td>\n",
       "    </tr>\n",
       "    <tr>\n",
       "      <th>2</th>\n",
       "      <td>can not wait for 2 also they should sale them ...</td>\n",
       "      <td>Positive emotion</td>\n",
       "      <td>Other</td>\n",
       "      <td>[can, not, wait, for, 2, also, they, should, s...</td>\n",
       "    </tr>\n",
       "    <tr>\n",
       "      <th>3</th>\n",
       "      <td>i hope this years festival isnt as crashy as t...</td>\n",
       "      <td>Negative emotion</td>\n",
       "      <td>Apple</td>\n",
       "      <td>[i, hope, this, years, festival, isnt, as, cra...</td>\n",
       "    </tr>\n",
       "    <tr>\n",
       "      <th>4</th>\n",
       "      <td>great stuff on fri marissa mayer google tim or...</td>\n",
       "      <td>Positive emotion</td>\n",
       "      <td>Google</td>\n",
       "      <td>[great, stuff, on, fri, marissa, mayer, google...</td>\n",
       "    </tr>\n",
       "  </tbody>\n",
       "</table>\n",
       "</div>"
      ],
      "text/plain": [
       "                                                text         sentiment  \\\n",
       "0  i have a 3g iphone after 3 hrs tweeting at it ...  Negative emotion   \n",
       "1  know about awesome ipadiphone app that youll l...  Positive emotion   \n",
       "2  can not wait for 2 also they should sale them ...  Positive emotion   \n",
       "3  i hope this years festival isnt as crashy as t...  Negative emotion   \n",
       "4  great stuff on fri marissa mayer google tim or...  Positive emotion   \n",
       "\n",
       "  brand_category                                     tokenized_text  \n",
       "0          Apple  [i, have, a, 3g, iphone, after, 3, hrs, tweeti...  \n",
       "1          Apple  [know, about, awesome, ipadiphone, app, that, ...  \n",
       "2          Other  [can, not, wait, for, 2, also, they, should, s...  \n",
       "3          Apple  [i, hope, this, years, festival, isnt, as, cra...  \n",
       "4         Google  [great, stuff, on, fri, marissa, mayer, google...  "
      ]
     },
     "execution_count": 42,
     "metadata": {},
     "output_type": "execute_result"
    }
   ],
   "source": [
    "# tokenization\n",
    "nltk.download('punkt')\n",
    "cleaned_df['tokenized_text'] = cleaned_df['text'].apply(word_tokenize)\n",
    "# Check the first few rows after tokenization\n",
    "cleaned_df.head()"
   ]
  },
  {
   "cell_type": "code",
   "execution_count": 43,
   "id": "e4ad69e7",
   "metadata": {},
   "outputs": [
    {
     "name": "stderr",
     "output_type": "stream",
     "text": [
      "[nltk_data] Downloading package stopwords to\n",
      "[nltk_data]     C:\\Users\\HomePC\\AppData\\Roaming\\nltk_data...\n",
      "[nltk_data]   Package stopwords is already up-to-date!\n"
     ]
    },
    {
     "data": {
      "text/html": [
       "<div>\n",
       "<style scoped>\n",
       "    .dataframe tbody tr th:only-of-type {\n",
       "        vertical-align: middle;\n",
       "    }\n",
       "\n",
       "    .dataframe tbody tr th {\n",
       "        vertical-align: top;\n",
       "    }\n",
       "\n",
       "    .dataframe thead th {\n",
       "        text-align: right;\n",
       "    }\n",
       "</style>\n",
       "<table border=\"1\" class=\"dataframe\">\n",
       "  <thead>\n",
       "    <tr style=\"text-align: right;\">\n",
       "      <th></th>\n",
       "      <th>text</th>\n",
       "      <th>sentiment</th>\n",
       "      <th>brand_category</th>\n",
       "      <th>tokenized_text</th>\n",
       "    </tr>\n",
       "  </thead>\n",
       "  <tbody>\n",
       "    <tr>\n",
       "      <th>0</th>\n",
       "      <td>i have a 3g iphone after 3 hrs tweeting at it ...</td>\n",
       "      <td>Negative emotion</td>\n",
       "      <td>Apple</td>\n",
       "      <td>[3g, iphone, 3, hrs, tweeting, dead, need, upg...</td>\n",
       "    </tr>\n",
       "    <tr>\n",
       "      <th>1</th>\n",
       "      <td>know about awesome ipadiphone app that youll l...</td>\n",
       "      <td>Positive emotion</td>\n",
       "      <td>Apple</td>\n",
       "      <td>[know, awesome, ipadiphone, app, youll, likely...</td>\n",
       "    </tr>\n",
       "    <tr>\n",
       "      <th>2</th>\n",
       "      <td>can not wait for 2 also they should sale them ...</td>\n",
       "      <td>Positive emotion</td>\n",
       "      <td>Other</td>\n",
       "      <td>[wait, 2, also, sale]</td>\n",
       "    </tr>\n",
       "    <tr>\n",
       "      <th>3</th>\n",
       "      <td>i hope this years festival isnt as crashy as t...</td>\n",
       "      <td>Negative emotion</td>\n",
       "      <td>Apple</td>\n",
       "      <td>[hope, years, festival, isnt, crashy, years, i...</td>\n",
       "    </tr>\n",
       "    <tr>\n",
       "      <th>4</th>\n",
       "      <td>great stuff on fri marissa mayer google tim or...</td>\n",
       "      <td>Positive emotion</td>\n",
       "      <td>Google</td>\n",
       "      <td>[great, stuff, fri, marissa, mayer, google, ti...</td>\n",
       "    </tr>\n",
       "  </tbody>\n",
       "</table>\n",
       "</div>"
      ],
      "text/plain": [
       "                                                text         sentiment  \\\n",
       "0  i have a 3g iphone after 3 hrs tweeting at it ...  Negative emotion   \n",
       "1  know about awesome ipadiphone app that youll l...  Positive emotion   \n",
       "2  can not wait for 2 also they should sale them ...  Positive emotion   \n",
       "3  i hope this years festival isnt as crashy as t...  Negative emotion   \n",
       "4  great stuff on fri marissa mayer google tim or...  Positive emotion   \n",
       "\n",
       "  brand_category                                     tokenized_text  \n",
       "0          Apple  [3g, iphone, 3, hrs, tweeting, dead, need, upg...  \n",
       "1          Apple  [know, awesome, ipadiphone, app, youll, likely...  \n",
       "2          Other                              [wait, 2, also, sale]  \n",
       "3          Apple  [hope, years, festival, isnt, crashy, years, i...  \n",
       "4         Google  [great, stuff, fri, marissa, mayer, google, ti...  "
      ]
     },
     "execution_count": 43,
     "metadata": {},
     "output_type": "execute_result"
    }
   ],
   "source": [
    "from nltk.corpus import stopwords\n",
    "nltk.download('stopwords')\n",
    "stopwords = set(stopwords.words('english'))\n",
    "cleaned_df['tokenized_text'] = cleaned_df['tokenized_text'].apply(lambda x: [word for word in x if word not in stopwords])\n",
    "# Check the first few rows after stopwords removal\n",
    "cleaned_df.head()"
   ]
  },
  {
   "cell_type": "code",
   "execution_count": 44,
   "id": "a7134c09",
   "metadata": {},
   "outputs": [
    {
     "name": "stderr",
     "output_type": "stream",
     "text": [
      "[nltk_data] Downloading package wordnet to\n",
      "[nltk_data]     C:\\Users\\HomePC\\AppData\\Roaming\\nltk_data...\n"
     ]
    },
    {
     "data": {
      "text/html": [
       "<div>\n",
       "<style scoped>\n",
       "    .dataframe tbody tr th:only-of-type {\n",
       "        vertical-align: middle;\n",
       "    }\n",
       "\n",
       "    .dataframe tbody tr th {\n",
       "        vertical-align: top;\n",
       "    }\n",
       "\n",
       "    .dataframe thead th {\n",
       "        text-align: right;\n",
       "    }\n",
       "</style>\n",
       "<table border=\"1\" class=\"dataframe\">\n",
       "  <thead>\n",
       "    <tr style=\"text-align: right;\">\n",
       "      <th></th>\n",
       "      <th>text</th>\n",
       "      <th>sentiment</th>\n",
       "      <th>brand_category</th>\n",
       "      <th>tokenized_text</th>\n",
       "      <th>lemmatized_text</th>\n",
       "    </tr>\n",
       "  </thead>\n",
       "  <tbody>\n",
       "    <tr>\n",
       "      <th>0</th>\n",
       "      <td>i have a 3g iphone after 3 hrs tweeting at it ...</td>\n",
       "      <td>Negative emotion</td>\n",
       "      <td>Apple</td>\n",
       "      <td>[3g, iphone, 3, hrs, tweeting, dead, need, upg...</td>\n",
       "      <td>[3g, iphone, 3, hr, tweeting, dead, need, upgr...</td>\n",
       "    </tr>\n",
       "    <tr>\n",
       "      <th>1</th>\n",
       "      <td>know about awesome ipadiphone app that youll l...</td>\n",
       "      <td>Positive emotion</td>\n",
       "      <td>Apple</td>\n",
       "      <td>[know, awesome, ipadiphone, app, youll, likely...</td>\n",
       "      <td>[know, awesome, ipadiphone, app, youll, likely...</td>\n",
       "    </tr>\n",
       "    <tr>\n",
       "      <th>2</th>\n",
       "      <td>can not wait for 2 also they should sale them ...</td>\n",
       "      <td>Positive emotion</td>\n",
       "      <td>Other</td>\n",
       "      <td>[wait, 2, also, sale]</td>\n",
       "      <td>[wait, 2, also, sale]</td>\n",
       "    </tr>\n",
       "    <tr>\n",
       "      <th>3</th>\n",
       "      <td>i hope this years festival isnt as crashy as t...</td>\n",
       "      <td>Negative emotion</td>\n",
       "      <td>Apple</td>\n",
       "      <td>[hope, years, festival, isnt, crashy, years, i...</td>\n",
       "      <td>[hope, year, festival, isnt, crashy, year, iph...</td>\n",
       "    </tr>\n",
       "    <tr>\n",
       "      <th>4</th>\n",
       "      <td>great stuff on fri marissa mayer google tim or...</td>\n",
       "      <td>Positive emotion</td>\n",
       "      <td>Google</td>\n",
       "      <td>[great, stuff, fri, marissa, mayer, google, ti...</td>\n",
       "      <td>[great, stuff, fri, marissa, mayer, google, ti...</td>\n",
       "    </tr>\n",
       "  </tbody>\n",
       "</table>\n",
       "</div>"
      ],
      "text/plain": [
       "                                                text         sentiment  \\\n",
       "0  i have a 3g iphone after 3 hrs tweeting at it ...  Negative emotion   \n",
       "1  know about awesome ipadiphone app that youll l...  Positive emotion   \n",
       "2  can not wait for 2 also they should sale them ...  Positive emotion   \n",
       "3  i hope this years festival isnt as crashy as t...  Negative emotion   \n",
       "4  great stuff on fri marissa mayer google tim or...  Positive emotion   \n",
       "\n",
       "  brand_category                                     tokenized_text  \\\n",
       "0          Apple  [3g, iphone, 3, hrs, tweeting, dead, need, upg...   \n",
       "1          Apple  [know, awesome, ipadiphone, app, youll, likely...   \n",
       "2          Other                              [wait, 2, also, sale]   \n",
       "3          Apple  [hope, years, festival, isnt, crashy, years, i...   \n",
       "4         Google  [great, stuff, fri, marissa, mayer, google, ti...   \n",
       "\n",
       "                                     lemmatized_text  \n",
       "0  [3g, iphone, 3, hr, tweeting, dead, need, upgr...  \n",
       "1  [know, awesome, ipadiphone, app, youll, likely...  \n",
       "2                              [wait, 2, also, sale]  \n",
       "3  [hope, year, festival, isnt, crashy, year, iph...  \n",
       "4  [great, stuff, fri, marissa, mayer, google, ti...  "
      ]
     },
     "execution_count": 44,
     "metadata": {},
     "output_type": "execute_result"
    }
   ],
   "source": [
    "#lammatization\n",
    "from nltk.stem import WordNetLemmatizer\n",
    "nltk.download('wordnet')\n",
    "lemmatizer = WordNetLemmatizer()\n",
    "cleaned_df['lemmatized_text'] = cleaned_df['tokenized_text'].apply(lambda x: [lemmatizer.lemmatize(word) for word in x])\n",
    "# Check the first few rows after lemmatization\n",
    "cleaned_df.head()"
   ]
  },
  {
   "cell_type": "code",
   "execution_count": 45,
   "id": "efb2214b",
   "metadata": {},
   "outputs": [
    {
     "name": "stdout",
     "output_type": "stream",
     "text": [
      "No emotion toward brand or product    5373\n",
      "Positive emotion                      2970\n",
      "Negative emotion                       569\n",
      "I can't tell                           156\n",
      "Name: sentiment, dtype: int64\n"
     ]
    }
   ],
   "source": [
    "#count tweet by sentiment class\n",
    "sentiment_counts = cleaned_df['sentiment'].value_counts()\n",
    "print(sentiment_counts)"
   ]
  },
  {
   "cell_type": "code",
   "execution_count": 46,
   "id": "0c3091a1",
   "metadata": {},
   "outputs": [
    {
     "data": {
      "text/html": [
       "<div>\n",
       "<style scoped>\n",
       "    .dataframe tbody tr th:only-of-type {\n",
       "        vertical-align: middle;\n",
       "    }\n",
       "\n",
       "    .dataframe tbody tr th {\n",
       "        vertical-align: top;\n",
       "    }\n",
       "\n",
       "    .dataframe thead th {\n",
       "        text-align: right;\n",
       "    }\n",
       "</style>\n",
       "<table border=\"1\" class=\"dataframe\">\n",
       "  <thead>\n",
       "    <tr style=\"text-align: right;\">\n",
       "      <th></th>\n",
       "      <th>text</th>\n",
       "      <th>sentiment</th>\n",
       "      <th>brand_category</th>\n",
       "      <th>tokenized_text</th>\n",
       "      <th>lemmatized_text</th>\n",
       "      <th>tweet_length</th>\n",
       "    </tr>\n",
       "  </thead>\n",
       "  <tbody>\n",
       "    <tr>\n",
       "      <th>0</th>\n",
       "      <td>i have a 3g iphone after 3 hrs tweeting at it ...</td>\n",
       "      <td>Negative emotion</td>\n",
       "      <td>Apple</td>\n",
       "      <td>[3g, iphone, 3, hrs, tweeting, dead, need, upg...</td>\n",
       "      <td>[3g, iphone, 3, hr, tweeting, dead, need, upgr...</td>\n",
       "      <td>20</td>\n",
       "    </tr>\n",
       "    <tr>\n",
       "      <th>1</th>\n",
       "      <td>know about awesome ipadiphone app that youll l...</td>\n",
       "      <td>Positive emotion</td>\n",
       "      <td>Apple</td>\n",
       "      <td>[know, awesome, ipadiphone, app, youll, likely...</td>\n",
       "      <td>[know, awesome, ipadiphone, app, youll, likely...</td>\n",
       "      <td>18</td>\n",
       "    </tr>\n",
       "    <tr>\n",
       "      <th>2</th>\n",
       "      <td>can not wait for 2 also they should sale them ...</td>\n",
       "      <td>Positive emotion</td>\n",
       "      <td>Other</td>\n",
       "      <td>[wait, 2, also, sale]</td>\n",
       "      <td>[wait, 2, also, sale]</td>\n",
       "      <td>12</td>\n",
       "    </tr>\n",
       "    <tr>\n",
       "      <th>3</th>\n",
       "      <td>i hope this years festival isnt as crashy as t...</td>\n",
       "      <td>Negative emotion</td>\n",
       "      <td>Apple</td>\n",
       "      <td>[hope, years, festival, isnt, crashy, years, i...</td>\n",
       "      <td>[hope, year, festival, isnt, crashy, year, iph...</td>\n",
       "      <td>13</td>\n",
       "    </tr>\n",
       "    <tr>\n",
       "      <th>4</th>\n",
       "      <td>great stuff on fri marissa mayer google tim or...</td>\n",
       "      <td>Positive emotion</td>\n",
       "      <td>Google</td>\n",
       "      <td>[great, stuff, fri, marissa, mayer, google, ti...</td>\n",
       "      <td>[great, stuff, fri, marissa, mayer, google, ti...</td>\n",
       "      <td>15</td>\n",
       "    </tr>\n",
       "  </tbody>\n",
       "</table>\n",
       "</div>"
      ],
      "text/plain": [
       "                                                text         sentiment  \\\n",
       "0  i have a 3g iphone after 3 hrs tweeting at it ...  Negative emotion   \n",
       "1  know about awesome ipadiphone app that youll l...  Positive emotion   \n",
       "2  can not wait for 2 also they should sale them ...  Positive emotion   \n",
       "3  i hope this years festival isnt as crashy as t...  Negative emotion   \n",
       "4  great stuff on fri marissa mayer google tim or...  Positive emotion   \n",
       "\n",
       "  brand_category                                     tokenized_text  \\\n",
       "0          Apple  [3g, iphone, 3, hrs, tweeting, dead, need, upg...   \n",
       "1          Apple  [know, awesome, ipadiphone, app, youll, likely...   \n",
       "2          Other                              [wait, 2, also, sale]   \n",
       "3          Apple  [hope, years, festival, isnt, crashy, years, i...   \n",
       "4         Google  [great, stuff, fri, marissa, mayer, google, ti...   \n",
       "\n",
       "                                     lemmatized_text  tweet_length  \n",
       "0  [3g, iphone, 3, hr, tweeting, dead, need, upgr...            20  \n",
       "1  [know, awesome, ipadiphone, app, youll, likely...            18  \n",
       "2                              [wait, 2, also, sale]            12  \n",
       "3  [hope, year, festival, isnt, crashy, year, iph...            13  \n",
       "4  [great, stuff, fri, marissa, mayer, google, ti...            15  "
      ]
     },
     "execution_count": 46,
     "metadata": {},
     "output_type": "execute_result"
    }
   ],
   "source": [
    "# •\tTweet length distribution\n",
    "cleaned_df['tweet_length']=cleaned_df['text'].apply(lambda x: len(x.split()))\n",
    "# Check the first few rows after tweet length calculation\n",
    "cleaned_df.head()"
   ]
  },
  {
   "cell_type": "code",
   "execution_count": null,
   "id": "f2e1d15b",
   "metadata": {},
   "outputs": [],
   "source": []
  }
 ],
 "metadata": {
  "kernelspec": {
   "display_name": "learn-env",
   "language": "python",
   "name": "python3"
  },
  "language_info": {
   "codemirror_mode": {
    "name": "ipython",
    "version": 3
   },
   "file_extension": ".py",
   "mimetype": "text/x-python",
   "name": "python",
   "nbconvert_exporter": "python",
   "pygments_lexer": "ipython3",
   "version": "3.8.5"
  }
 },
 "nbformat": 4,
 "nbformat_minor": 5
}
